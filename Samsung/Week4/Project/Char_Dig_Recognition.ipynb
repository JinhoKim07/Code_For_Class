{
 "cells": [
  {
   "cell_type": "code",
   "execution_count": 1,
   "metadata": {},
   "outputs": [],
   "source": [
    "import numpy as np\n",
    "import cv2\n",
    "from IPython.display import Image\n",
    "import pandas as pd\n",
    "\n",
    "import matplotlib.pyplot as plt\n",
    "import tensorflow as tf\n",
    "\n",
    "\n",
    "def reset_graph(seed=42):\n",
    "    tf.reset_default_graph()\n",
    "    tf.set_random_seed(seed)\n",
    "    np.random.seed(seed)"
   ]
  },
  {
   "cell_type": "markdown",
   "metadata": {},
   "source": [
    "### ALPHBET+NUM SET GENERATE"
   ]
  },
  {
   "cell_type": "code",
   "execution_count": 2,
   "metadata": {},
   "outputs": [
    {
     "name": "stdout",
     "output_type": "stream",
     "text": [
      "[0, 1, 2, 3, 4, 5, 6, 7, 8, 9, 'A', 'B', 'C', 'D', 'E', 'F', 'G', 'H', 'I', 'J', 'K', 'L', 'M', 'N', 'O', 'P', 'Q', 'R', 'S', 'T', 'U', 'V', 'W', 'X', 'Y', 'Z']\n"
     ]
    }
   ],
   "source": [
    "import string\n",
    "\n",
    "ALP = []\n",
    "for i in range(10):\n",
    "    ALP.append((i)%10)\n",
    "for a in string.ascii_uppercase[:27]:\n",
    "    ALP.append(a)\n",
    "print (ALP)         \n",
    "#ALP #-1 , (0-9) + (A-Z)"
   ]
  },
  {
   "cell_type": "code",
   "execution_count": 3,
   "metadata": {},
   "outputs": [],
   "source": [
    "def ImgtoFloat(route):\n",
    "    \n",
    "    raw=cv2.imread(route)\n",
    "    gray = cv2.cvtColor(raw,cv2.COLOR_BGR2GRAY)\n",
    "    gray = np.expand_dims(gray, axis=2)\n",
    "    \n",
    "    return gray\n"
   ]
  },
  {
   "cell_type": "code",
   "execution_count": 4,
   "metadata": {},
   "outputs": [
    {
     "name": "stdout",
     "output_type": "stream",
     "text": [
      "./Data/English/Fnt/Sample033 Done.\n",
      "./Data/English/Fnt/Sample034 Done.\n",
      "./Data/English/Fnt/Sample002 Done.\n",
      "./Data/English/Fnt/Sample005 Done.\n",
      "./Data/English/Fnt/Sample004 Done.\n",
      "./Data/English/Fnt/Sample003 Done.\n",
      "./Data/English/Fnt/Sample035 Done.\n",
      "./Data/English/Fnt/Sample032 Done.\n",
      "./Data/English/Fnt/Sample010 Done.\n",
      "./Data/English/Fnt/Sample028 Done.\n",
      "./Data/English/Fnt/Sample017 Done.\n",
      "./Data/English/Fnt/Sample021 Done.\n",
      "./Data/English/Fnt/Sample019 Done.\n",
      "./Data/English/Fnt/Sample026 Done.\n",
      "./Data/English/Fnt/Sample018 Done.\n",
      "./Data/English/Fnt/Sample027 Done.\n",
      "./Data/English/Fnt/Sample020 Done.\n",
      "./Data/English/Fnt/Sample029 Done.\n",
      "./Data/English/Fnt/Sample016 Done.\n",
      "./Data/English/Fnt/Sample011 Done.\n",
      "./Data/English/Fnt/Sample008 Done.\n",
      "./Data/English/Fnt/Sample030 Done.\n",
      "./Data/English/Fnt/Sample006 Done.\n",
      "./Data/English/Fnt/Sample001 Done.\n",
      "./Data/English/Fnt/Sample007 Done.\n",
      "./Data/English/Fnt/Sample031 Done.\n",
      "./Data/English/Fnt/Sample036 Done.\n",
      "./Data/English/Fnt/Sample009 Done.\n",
      "./Data/English/Fnt/Sample014 Done.\n",
      "./Data/English/Fnt/Sample013 Done.\n",
      "./Data/English/Fnt/Sample025 Done.\n",
      "./Data/English/Fnt/Sample022 Done.\n",
      "./Data/English/Fnt/Sample023 Done.\n",
      "./Data/English/Fnt/Sample024 Done.\n",
      "./Data/English/Fnt/Sample012 Done.\n",
      "./Data/English/Fnt/Sample015 Done.\n"
     ]
    }
   ],
   "source": [
    "import os\n",
    "import re\n",
    "\n",
    "pwd = \"./Data/English/Fnt/\"\n",
    "#Data = pd.DataFrame()\n",
    "#Data = pd.DataFrame(columns = (\"Input\",\"Label\"))\n",
    "X_ALL=[]\n",
    "y_ALL=[]\n",
    "\n",
    "for path, dirs, files in os.walk(pwd):\n",
    "    for dr in dirs:\n",
    "        if (int(re.findall('\\d+',dr)[0]) < 37):\n",
    "            subpwd = os.path.join(path, dr)\n",
    "            #print (subpwd)\n",
    "            for sub_path, sub_dirs, sub_files in os.walk(subpwd):\n",
    "                for subfile in sub_files:\n",
    "                    sample = os.path.join(subpwd,subfile)\n",
    "                    #Data.loc[len(Data)] = [ImgtoFloat(sample),int(re.findall('\\d+',dr)[0])]\n",
    "                    X_ALL.append(ImgtoFloat(sample))\n",
    "                    y_ALL.append(int(re.findall('\\d+',dr)[0])-1)\n",
    "                print (subpwd,\"Done.\")"
   ]
  },
  {
   "cell_type": "code",
   "execution_count": 5,
   "metadata": {},
   "outputs": [
    {
     "name": "stderr",
     "output_type": "stream",
     "text": [
      "/usr/local/lib/python3.6/site-packages/sklearn/cross_validation.py:44: DeprecationWarning: This module was deprecated in version 0.18 in favor of the model_selection module into which all the refactored classes and functions are moved. Also note that the interface of the new CV iterators are different from that of this module. This module will be removed in 0.20.\n",
      "  \"This module will be removed in 0.20.\", DeprecationWarning)\n"
     ]
    }
   ],
   "source": [
    "from sklearn import cross_validation\n",
    "X_ALL = np.array(X_ALL)\n",
    "y_ALL = np.array(y_ALL)\n",
    "\n",
    "X_train, X_test, y_train, y_test = cross_validation.train_test_split(X_ALL,y_ALL,test_size=0.2)\n",
    "\n",
    "#X_train.shape"
   ]
  },
  {
   "cell_type": "code",
   "execution_count": 6,
   "metadata": {},
   "outputs": [],
   "source": [
    "height = 128\n",
    "width = 128\n",
    "channels = 1\n",
    "n_inputs = height * width\n",
    "\n",
    "conv1_fmaps = 8\n",
    "conv1_ksize = 5\n",
    "conv1_stride = 1\n",
    "conv1_pad = \"SAME\"\n",
    "\n",
    "conv2_fmaps = 4\n",
    "conv2_ksize = 3\n",
    "conv2_stride = 2\n",
    "conv2_pad = \"SAME\"\n",
    "\n",
    "pool3_fmaps = conv2_fmaps\n",
    "\n",
    "n_fc1 = 64\n",
    "n_outputs = 36\n",
    "\n",
    "reset_graph()\n",
    "\n",
    "with tf.name_scope(\"inputs\"):\n",
    "    X = tf.placeholder(tf.float32, shape=[None, height, width, channels], name=\"X\")\n",
    "    y = tf.placeholder(tf.int32, shape=[None], name=\"y\")\n",
    "\n",
    "conv1 = tf.layers.conv2d(X, filters=conv1_fmaps, kernel_size=conv1_ksize,\n",
    "                         strides=conv1_stride, padding=conv1_pad,\n",
    "                         activation=tf.nn.relu, name=\"conv1\")\n",
    "conv2 = tf.layers.conv2d(conv1, filters=conv2_fmaps, kernel_size=conv2_ksize,\n",
    "                         strides=conv2_stride, padding=conv2_pad,\n",
    "                         activation=tf.nn.relu, name=\"conv2\")\n",
    "\n",
    "with tf.name_scope(\"pool3\"):\n",
    "    pool3 = tf.nn.max_pool(conv2, ksize=[1, 2, 2, 1], strides=[1, 2, 2, 1], padding=\"VALID\")\n",
    "    pool3_flat = tf.reshape(pool3, shape=[-1, pool3_fmaps * 32 * 32])\n",
    "\n",
    "with tf.name_scope(\"fc1\"):\n",
    "    fc1 = tf.layers.dense(pool3_flat, n_fc1, activation=tf.nn.relu, name=\"fc1\")\n",
    "\n",
    "with tf.name_scope(\"output\"):\n",
    "    logits = tf.layers.dense(fc1, n_outputs, name=\"output\")\n",
    "    Y_proba = tf.nn.softmax(logits, name=\"Y_proba\")\n",
    "\n",
    "with tf.name_scope(\"train\"):\n",
    "    xentropy = tf.nn.sparse_softmax_cross_entropy_with_logits(logits=logits, labels=y)\n",
    "    loss = tf.reduce_mean(xentropy)\n",
    "    global_step = tf.Variable(0, trainable=False, name='global_step')\n",
    "    optimizer = tf.train.AdamOptimizer()\n",
    "    training_op = optimizer.minimize(loss, global_step=global_step)\n",
    "\n",
    "with tf.name_scope(\"eval\"):\n",
    "    correct = tf.nn.in_top_k(logits, y, 1)\n",
    "    accuracy = tf.reduce_mean(tf.cast(correct, tf.float32))\n",
    "\n",
    "with tf.name_scope(\"init_and_save\"):\n",
    "    init = tf.global_variables_initializer()\n",
    "    saver = tf.train.Saver()"
   ]
  },
  {
   "cell_type": "code",
   "execution_count": 7,
   "metadata": {},
   "outputs": [],
   "source": [
    "from random import sample\n",
    "\n",
    "def prepare_batch(X_train, y_train, batch_size):\n",
    "    Batch = np.random.randint(0,len(X_train),batch_size)\n",
    "    X_batch = np.stack(X_train[idx] for idx in Batch)\n",
    "    y_batch = np.stack(y_train[idx] for idx in Batch)\n",
    "    \n",
    "    return X_batch, y_batch\n",
    "\n",
    "#X_batch, y_batch = prepare_batch(Data,10)\n",
    "#print (len(list(Data[\"Label\"])))\n",
    "#X_batch, y_batch = prepare_batch(Data,100)\n",
    "#print (X_batch.shape, y_batch.shape)\n"
   ]
  },
  {
   "cell_type": "code",
   "execution_count": 8,
   "metadata": {},
   "outputs": [
    {
     "name": "stdout",
     "output_type": "stream",
     "text": [
      "0 Train accuracy: 0.13 Test accuracy: 0.109486\n",
      "1 Train accuracy: 0.31 Test accuracy: 0.227857\n",
      "2 Train accuracy: 0.47 Test accuracy: 0.488928\n",
      "3 Train accuracy: 0.55 Test accuracy: 0.626299\n",
      "4 Train accuracy: 0.73 Test accuracy: 0.747676\n",
      "5 Train accuracy: 0.76 Test accuracy: 0.785812\n",
      "6 Train accuracy: 0.88 Test accuracy: 0.803034\n",
      "7 Train accuracy: 0.87 Test accuracy: 0.822717\n",
      "8 Train accuracy: 0.9 Test accuracy: 0.83871\n",
      "9 Train accuracy: 0.94 Test accuracy: 0.849781\n"
     ]
    }
   ],
   "source": [
    "n_epochs = 10\n",
    "batch_size = 100\n",
    "checkpoint_path = \"./Saved/LetterCNN.ckpt\"\n",
    "\n",
    "with tf.Session() as sess:\n",
    "    init.run()\n",
    "    for epoch in range(n_epochs):\n",
    "        for iteration in range(len(X_train) // batch_size):\n",
    "            X_batch, y_batch = prepare_batch(X_train, y_train, batch_size)\n",
    "            sess.run(training_op, feed_dict={X: X_batch, y: y_batch})\n",
    "        acc_train = accuracy.eval(feed_dict={X: X_batch, y: y_batch})\n",
    "        acc_test = accuracy.eval(feed_dict={X: X_test, y: y_test}) \n",
    "        print(epoch, \"Train accuracy:\", acc_train, \"Test accuracy:\", acc_test)\n",
    "\n",
    "        save_path = saver.save(sess, checkpoint_path)"
   ]
  },
  {
   "cell_type": "code",
   "execution_count": null,
   "metadata": {},
   "outputs": [],
   "source": [
    "n_epochs = 10\n",
    "batch_size = 100\n",
    "checkpoint_path = \"./Saved/LetterCNN.ckpt\"\n",
    "\n",
    "with tf.Session() as sess:\n",
    "    saver.restore(sess, checkpoint_path)\n",
    "    for epoch in range(n_epochs):\n",
    "        for iteration in range(len(X_train) // batch_size):\n",
    "            X_batch, y_batch = prepare_batch(X_train, y_train, batch_size)\n",
    "            sess.run(training_op, feed_dict={X: X_batch, y: y_batch})\n",
    "        acc_train = accuracy.eval(feed_dict={X: X_batch, y: y_batch})\n",
    "        acc_test = accuracy.eval(feed_dict={X: X_test, y: y_test}) \n",
    "        print(epoch,\"Train accuracy:\", acc_train, \"Test accuracy:\", acc_test)\n",
    "\n",
    "        save_path = saver.save(sess, checkpoint_path)"
   ]
  },
  {
   "cell_type": "markdown",
   "metadata": {},
   "source": [
    "## Restore and Run"
   ]
  },
  {
   "cell_type": "code",
   "execution_count": 10,
   "metadata": {},
   "outputs": [
    {
     "name": "stdout",
     "output_type": "stream",
     "text": [
      "(231, 37)\n",
      "[[ 0.99998329  0.00578025 -0.21001022]\n",
      " [-0.00578025  0.99998329  1.33585592]]\n"
     ]
    },
    {
     "data": {
      "image/jpeg": "[encoded data removed]",
      "text/plain": [
       "<IPython.core.display.Image object>"
      ]
     },
     "execution_count": 10,
     "metadata": {},
     "output_type": "execute_result"
    }
   ],
   "source": [
    "Raw = cv2.imread(\"./Image/Core/Core.png\")\n",
    "img = Raw.copy()\n",
    "\n",
    "### Rotate .. \n",
    "gray = cv2.cvtColor(img, cv2.COLOR_BGR2GRAY)\n",
    "gray = cv2.bitwise_not(gray)\n",
    "thresh = cv2.threshold(gray, 127, 255, cv2.THRESH_BINARY | cv2.THRESH_OTSU)[1]\n",
    "coords = np.column_stack(np.where(thresh > 0))\n",
    "angle = cv2.minAreaRect(coords)[-1]\n",
    "#coords.shape\n",
    "rect=cv2.minAreaRect(coords)\n",
    "#print(rect)\n",
    "points = cv2.boxPoints(rect)\n",
    "#print(points)\n",
    "points = np.int0(np.around(points))\n",
    "\n",
    "if angle < -45:\n",
    "\tangle = -(90 + angle)\n",
    "\n",
    "else:\n",
    "\tangle = -angle\n",
    "\n",
    "(h, w) = img.shape[:2]\n",
    "center = (w // 2, h // 2)\n",
    "\n",
    "print(center)\n",
    "\n",
    "M = cv2.getRotationMatrix2D(center, angle, 1.0)\n",
    "\n",
    "print(M)\n",
    "rotated = cv2.warpAffine(img, M, (w, h),\n",
    "\tflags=cv2.INTER_CUBIC, borderMode=cv2.BORDER_REPLICATE)\n",
    "\n",
    "cv2.imwrite('./rotated.jpg',rotated)\n",
    "Image('./rotated.jpg')\n",
    "\n"
   ]
  },
  {
   "cell_type": "code",
   "execution_count": 11,
   "metadata": {
    "scrolled": true
   },
   "outputs": [
    {
     "name": "stdout",
     "output_type": "stream",
     "text": [
      "[[31, 75], [79, 133], [141, 185], [189, 230], [234, 271], [276, 306], [318, 341], [352, 393], [399, 439], [445, 483], [487, 531], [538, 570], [576, 608], [615, 646], [653, 684], [691, 722], [729, 760]]\n"
     ]
    },
    {
     "data": {
      "image/jpeg": "[encoded data removed]",
      "text/plain": [
       "<IPython.core.display.Image object>"
      ]
     },
     "execution_count": 11,
     "metadata": {},
     "output_type": "execute_result"
    }
   ],
   "source": [
    "\n",
    "### END of Rotate Part \n",
    "\n",
    "gray = cv2.cvtColor(rotated,cv2.COLOR_BGR2GRAY)\n",
    "    \n",
    "height,width = gray.shape\n",
    "ratio_w = int(128/height * width)\n",
    "\n",
    "Re_gray = cv2.resize(gray,(ratio_w,128),interpolation=cv2.INTER_LINEAR)\n",
    "re_height, re_width = Re_gray.shape\n",
    "\n",
    "ret,thresh = cv2.threshold(Re_gray,127,255,0)\n",
    "For_Check = thresh.copy()\n",
    "\n",
    "white_space = re_height*255\n",
    "\n",
    "End_Point = []\n",
    "Start_Point = []\n",
    "\n",
    "for i in range(re_width-1):\n",
    "    if (np.sum(thresh[:re_height, i])==white_space)&(np.sum(thresh[:re_height, i+1])!=white_space):\n",
    "        Start_Point.append(i)\n",
    "        #cv2.line(For_Check, (i, 0), (i, re_height), (0, 0, 255), 1)\n",
    "    if (np.sum(thresh[:re_height, i])!=white_space)&(np.sum(thresh[:re_height, i+1])==white_space):\n",
    "        End_Point.append(i)\n",
    "        #cv2.line(For_Check, (i, 0), (i, re_height), (0, 0, 255), 1)\n",
    "\n",
    "#Start_point = [i for i in End_Point[:-1]]\n",
    "\n",
    "if (np.sum(thresh[:re_height,0])!=white_space):\n",
    "    Start_Point.insert(0,0)\n",
    "if (np.sum(thresh[:re_height,-1])!=white_space):\n",
    "    End_Point.append(re_width)    \n",
    "\n",
    "Location = list([a,b] for a,b in zip(Start_Point, End_Point))\n",
    "\n",
    "#print(Start_Point)\n",
    "#print(End_Point)\n",
    "#print(Location)\n",
    "#print(len(location))\n",
    "\n",
    "while(len(Location) > 17):\n",
    "    \n",
    "    Loc_len = []\n",
    "    for i in range(len(Location)):\n",
    "        Loc_len.append(Location[i][1]-Location[i][0])\n",
    "\n",
    "    #print (np.argmin(Loc_len))\n",
    "    min_idx = np.argmin(Loc_len)\n",
    "    len_merge_left, len_merge_right = -1, -1\n",
    "    if (min_idx != 0):\n",
    "        len_merge_left = Loc_len[min_idx] + Loc_len[min_idx-1]\n",
    "    else:\n",
    "        len_merge_left = 999999\n",
    "\n",
    "    if (min_idx != len(Loc_len)):\n",
    "        len_merge_right = Loc_len[min_idx] + Loc_len[min_idx+1]\n",
    "    else:\n",
    "        len_merge_right = 999999\n",
    "\n",
    "    if (len_merge_left < len_merge_right):\n",
    "        Location[min_idx-1][1]= Location[min_idx][1]\n",
    "    else:\n",
    "        Location[min_idx+1][0]= Location[min_idx][0]\n",
    "    del Location[min_idx]\n",
    "    \n",
    "for i in range(len(Location)):\n",
    "    cv2.line(For_Check, (Location[i][0], 0), (Location[i][0], re_height), (0, 0, 255), 1)\n",
    "    cv2.line(For_Check, (Location[i][1], 0), (Location[i][1], re_height), (0, 0, 255), 1)\n",
    "        \n",
    "print(Location)\n",
    "\n",
    "cv2.imwrite('./test.jpg',For_Check)\n",
    "Image('./test.jpg')"
   ]
  },
  {
   "cell_type": "code",
   "execution_count": 12,
   "metadata": {},
   "outputs": [],
   "source": [
    "SAMPLE = []\n",
    "    \n",
    "for order in range(len(Location)):\n",
    "    start = Location[order][0]\n",
    "    end = Location[order][1]\n",
    "\n",
    "    front_len = int((128 - (end-start))/2)\n",
    "    end_len = int((128 - (end-start))/2)\n",
    "    #print (front_len,end_len,end-start,front_len+end_len+end-start)\n",
    "\n",
    "    if (front_len + end_len + end-start != 128):\n",
    "        front_len = front_len+1\n",
    "        # or end_len = end_len+1\n",
    "\n",
    "    center_rec = thresh[0:128,start:end]\n",
    "    left_rec = np.zeros((128,front_len),np.uint8)\n",
    "    left_rec[:,:] = (255)\n",
    "    right_rec = np.zeros((128,end_len),np.uint8)\n",
    "    right_rec[:,:] = (255)\n",
    "    left_center = np.hstack((left_rec,center_rec))\n",
    "    full = np.hstack((left_center,right_rec))\n",
    "    #full = cv2.hconcat(left_center,right_rec)\n",
    "\n",
    "    #print(full.shape)\n",
    "    Input = np.expand_dims(full, axis=2)\n",
    "    SAMPLE.append(Input)\n",
    "\n",
    "SAMPLE = np.array(SAMPLE)\n"
   ]
  },
  {
   "cell_type": "code",
   "execution_count": 13,
   "metadata": {},
   "outputs": [
    {
     "name": "stdout",
     "output_type": "stream",
     "text": [
      "(17, 128, 128, 1)\n"
     ]
    },
    {
     "data": {
      "image/jpeg": "[encoded data removed]",
      "text/plain": [
       "<IPython.core.display.Image object>"
      ]
     },
     "execution_count": 13,
     "metadata": {},
     "output_type": "execute_result"
    }
   ],
   "source": [
    "print (SAMPLE.shape)\n",
    "\n",
    "cv2.imwrite('./sample.jpg',SAMPLE[1])\n",
    "Image('./sample.jpg')"
   ]
  },
  {
   "cell_type": "code",
   "execution_count": 15,
   "metadata": {
    "scrolled": false
   },
   "outputs": [
    {
     "name": "stdout",
     "output_type": "stream",
     "text": [
      "INFO:tensorflow:Restoring parameters from ./saved/LetterCNN.ckpt\n",
      "4MY1L11151571715A\n"
     ]
    }
   ],
   "source": [
    "checkpoint_path = \"./saved/LetterCNN.ckpt\"\n",
    "#n_outputs = 10\n",
    "\n",
    "with tf.Session() as sess:\n",
    "    \n",
    "    #init.run()\n",
    "    saver.restore(sess, checkpoint_path)\n",
    "    #sess.run(training_op, feed_dict={X: X_Sample, y: y_Sample})\n",
    "    #sess.run(Y_proba, feed_dict = {X: Input})\n",
    "    \n",
    "    string_set = \"\"\n",
    "    \n",
    "    for idx in range(len(SAMPLE)):\n",
    "        BATCH = []\n",
    "        #Input = np.expand_dims(SAMPLE[idx], axis=2)\n",
    "        BATCH.append(SAMPLE[idx])\n",
    "        \n",
    "        #Input = np.expand_dims(SAMPLE[idx], axis=2)\n",
    "        #print(Input.shape)\n",
    "        \n",
    "        real_test = Y_proba.eval(feed_dict={X: BATCH})\n",
    "        idx = np.argmax(real_test)\n",
    "\n",
    "        #print (idx, ALP[idx], np.max(real_test), \"\\n\", real_test)\n",
    "        string_set = string_set+str(ALP[idx])\n",
    "    print (string_set)"
   ]
  },
  {
   "cell_type": "code",
   "execution_count": 16,
   "metadata": {},
   "outputs": [
    {
     "data": {
      "image/png": "[encoded data removed]",
      "text/plain": [
       "<IPython.core.display.Image object>"
      ]
     },
     "execution_count": 16,
     "metadata": {},
     "output_type": "execute_result"
    }
   ],
   "source": [
    "Image('./Image/Core/Core.png')"
   ]
  },
  {
   "cell_type": "code",
   "execution_count": null,
   "metadata": {},
   "outputs": [],
   "source": []
  }
 ],
 "metadata": {
  "kernelspec": {
   "display_name": "Python 3",
   "language": "python",
   "name": "python3"
  },
  "language_info": {
   "codemirror_mode": {
    "name": "ipython",
    "version": 3
   },
   "file_extension": ".py",
   "mimetype": "text/x-python",
   "name": "python",
   "nbconvert_exporter": "python",
   "pygments_lexer": "ipython3",
   "version": "3.6.4"
  }
 },
 "nbformat": 4,
 "nbformat_minor": 2
}
