{
 "cells": [
  {
   "cell_type": "code",
   "execution_count": 1,
   "metadata": {},
   "outputs": [
    {
     "name": "stdout",
     "output_type": "stream",
     "text": [
      "Hello World!\n"
     ]
    }
   ],
   "source": [
    "print (\"Hello World!\")"
   ]
  },
  {
   "cell_type": "markdown",
   "metadata": {},
   "source": [
    "마크다운 문법을 활용하여 원하시는 내용을 적을 수 있습니다.\n",
    "보통 **코드 설명**이나, 관련 내용을 많이 작성합니다.\n",
    "\n",
    "\n",
    "- 참고 내용\n",
    " - [Jupyter notebook Shortcut](https://www.cheatography.com/weidadeyue/cheat-sheets/jupyter-notebook/pdf_bw/)\n",
    " - [Markdown Basic](https://gist.github.com/ihoneymon/652be052a0727ad59601)\n",
    " - [Markdown Editor](https://marxi.co/)"
   ]
  },
  {
   "cell_type": "markdown",
   "metadata": {},
   "source": [
    "Jupyter Notebook의 활용예시를 보고 싶으시다면, End_to_end_machine_learning_project를 참고하세요 :)"
   ]
  },
  {
   "cell_type": "markdown",
   "metadata": {},
   "source": [
    "# 파이선 프로그래밍의 기초, 자료형"
   ]
  },
  {
   "cell_type": "markdown",
   "metadata": {},
   "source": [
    "## 숫자형\n",
    "\n",
    "숫자형은 숫자 형태로 이루어진 자료형으로, 우리가 이미 잘 알고 있는 형태입니다."
   ]
  },
  {
   "cell_type": "code",
   "execution_count": 2,
   "metadata": {},
   "outputs": [
    {
     "name": "stdout",
     "output_type": "stream",
     "text": [
      "123 -178 0\n"
     ]
    }
   ],
   "source": [
    "# 정수형\n",
    "a = 123\n",
    "b = -178\n",
    "c = 0\n",
    "\n",
    "print (a,b,c)"
   ]
  },
  {
   "cell_type": "code",
   "execution_count": 3,
   "metadata": {},
   "outputs": [
    {
     "name": "stdout",
     "output_type": "stream",
     "text": [
      "1.2 -3.45 0\n"
     ]
    }
   ],
   "source": [
    "# 실수형\n",
    "a = 1.2\n",
    "b = -3.45\n",
    "\n",
    "print (a,b,c)"
   ]
  },
  {
   "cell_type": "code",
   "execution_count": 4,
   "metadata": {},
   "outputs": [
    {
     "name": "stdout",
     "output_type": "stream",
     "text": [
      "42400000000.0 4.24e-10\n"
     ]
    }
   ],
   "source": [
    "# 실수형의 소수점 표현 방식\n",
    "\n",
    "a = 4.24E10\n",
    "b = 4.24e-10\n",
    "\n",
    "print (a,b)"
   ]
  },
  {
   "cell_type": "code",
   "execution_count": 5,
   "metadata": {},
   "outputs": [
    {
     "name": "stdout",
     "output_type": "stream",
     "text": [
      "127\n",
      "2303\n"
     ]
    }
   ],
   "source": [
    "# 8진수와 16진수\n",
    "\n",
    "## 8진수는 0o/0O로 시작\n",
    "\n",
    "a = 0o177\n",
    "\n",
    "print (a)\n",
    "\n",
    "## 16진수는 0x로 시작\n",
    "\n",
    "a = 0x8ff\n",
    "\n",
    "print (a)"
   ]
  },
  {
   "cell_type": "markdown",
   "metadata": {},
   "source": [
    "## 숫자형을 활용하기 위한 연산자"
   ]
  },
  {
   "cell_type": "code",
   "execution_count": 6,
   "metadata": {},
   "outputs": [
    {
     "name": "stdout",
     "output_type": "stream",
     "text": [
      "7 -1 12 0.75 81 3 0\n"
     ]
    }
   ],
   "source": [
    "a = 3\n",
    "b = 4\n",
    "\n",
    "print (a+b, a-b, a*b, a/b, a**b, a%b, a//b)\n",
    "\n",
    "# a ** b = a^b\n",
    "# a % b = 나누기의 나머지\n",
    "# a // b = 나눗셈 후 소수점 아랫자리를 버리는 연산자"
   ]
  },
  {
   "cell_type": "markdown",
   "metadata": {},
   "source": [
    "기존 파이선 2.x에서는 3/4를 실행하면, 0이 출력되었었습니다.\n",
    "이후, 파이선3.x에서는 정수와 정수의 연산에서도 소수점이 출력되도록 하고 있습니다."
   ]
  },
  {
   "cell_type": "code",
   "execution_count": 7,
   "metadata": {},
   "outputs": [
    {
     "name": "stdout",
     "output_type": "stream",
     "text": [
      "4.0 -1.4000000000000001 3.5100000000000002 0.48148148148148145 2.0307059963850898 1.3 0.0\n"
     ]
    }
   ],
   "source": [
    "a = 1.3\n",
    "b = 2.7\n",
    "\n",
    "print (a+b, a-b, a*b, a/b, a**b, a%b, a//b)"
   ]
  },
  {
   "cell_type": "markdown",
   "metadata": {},
   "source": [
    "## 문자열 자료형\n",
    "\n",
    "문자열(String)이란 문자, 단어 등으로 구성된 문자들의 집합을 의미합니다.\n",
    "파이선에서 문자열을 만드는 방법은 4가지 입니다."
   ]
  },
  {
   "cell_type": "code",
   "execution_count": 8,
   "metadata": {},
   "outputs": [
    {
     "data": {
      "text/plain": [
       "'Hello World'"
      ]
     },
     "execution_count": 8,
     "metadata": {},
     "output_type": "execute_result"
    }
   ],
   "source": [
    "# 1. 큰 따옴표로 양쪽 둘러싸기\n",
    "\"Hello World\""
   ]
  },
  {
   "cell_type": "code",
   "execution_count": 9,
   "metadata": {},
   "outputs": [
    {
     "data": {
      "text/plain": [
       "'Hello World'"
      ]
     },
     "execution_count": 9,
     "metadata": {},
     "output_type": "execute_result"
    }
   ],
   "source": [
    "# 2. 작은 따옴표로 양쪽 둘러싸기\n",
    "'Hello World'"
   ]
  },
  {
   "cell_type": "code",
   "execution_count": 10,
   "metadata": {},
   "outputs": [
    {
     "data": {
      "text/plain": [
       "'Hello World'"
      ]
     },
     "execution_count": 10,
     "metadata": {},
     "output_type": "execute_result"
    }
   ],
   "source": [
    "#3. 큰 따옴표를 3개 연속으로 써서 양쪽 둘러싸기\n",
    "\"\"\"Hello World\"\"\""
   ]
  },
  {
   "cell_type": "code",
   "execution_count": 11,
   "metadata": {},
   "outputs": [
    {
     "data": {
      "text/plain": [
       "'Hello World'"
      ]
     },
     "execution_count": 11,
     "metadata": {},
     "output_type": "execute_result"
    }
   ],
   "source": [
    "#4. 작은 따옴표를 3개 연속으로 써서 양쪽 둘러싸기\n",
    "'''Hello World'''"
   ]
  },
  {
   "cell_type": "markdown",
   "metadata": {},
   "source": [
    "### 왜 4가지의 표현형을 갖게 되었을까?\n",
    "- 문자열을 만들어 주는 주인공은 작은 따옴표 (')와 큰 따옴표 (\")입니다.\n",
    "- 하지만, 문자열을 만들다 보면, 문자열 안에도 작은 따옴표와 큰 따옴표가 들어 있어야 할 경우가 있습니다.\n",
    "- 또는 여러줄의 문자열을 한꺼번에 처리해야 하는 경우도 있습니다.\n",
    "- 각각의 경우에 대한 예저를 하나씩 살펴보시죠."
   ]
  },
  {
   "cell_type": "code",
   "execution_count": 12,
   "metadata": {},
   "outputs": [
    {
     "data": {
      "text/plain": [
       "\"Python's favorite food is Perl?\""
      ]
     },
     "execution_count": 12,
     "metadata": {},
     "output_type": "execute_result"
    }
   ],
   "source": [
    "# 1. 문자열에 작은 따옴표 포함시키기\n",
    "\n",
    "\"Python's favorite food is Perl?\""
   ]
  },
  {
   "cell_type": "code",
   "execution_count": 14,
   "metadata": {},
   "outputs": [
    {
     "ename": "SyntaxError",
     "evalue": "invalid syntax (<ipython-input-14-9147c8015a7c>, line 1)",
     "output_type": "error",
     "traceback": [
      "\u001b[0;36m  File \u001b[0;32m\"<ipython-input-14-9147c8015a7c>\"\u001b[0;36m, line \u001b[0;32m1\u001b[0m\n\u001b[0;31m    'Python's favortie food is Perl'\u001b[0m\n\u001b[0m            ^\u001b[0m\n\u001b[0;31mSyntaxError\u001b[0m\u001b[0;31m:\u001b[0m invalid syntax\n"
     ]
    }
   ],
   "source": [
    "'Python's favortie food is Perl'"
   ]
  },
  {
   "cell_type": "markdown",
   "metadata": {},
   "source": [
    "위 에러메세지와 Syntax Highlight를 보시면 알겠지만, 작은 따옴표를 쓰는 순간 문자열에 대한 선언이 끝나 위와 같은 에러가 발생하게 됩니다."
   ]
  },
  {
   "cell_type": "code",
   "execution_count": 16,
   "metadata": {},
   "outputs": [
    {
     "data": {
      "text/plain": [
       "'\"Python is very easy.\" he says.'"
      ]
     },
     "execution_count": 16,
     "metadata": {},
     "output_type": "execute_result"
    }
   ],
   "source": [
    "#2. 문자열에 큰 따옴표 포함시키기\n",
    "'\"Python is very easy.\" he says.'"
   ]
  },
  {
   "cell_type": "markdown",
   "metadata": {},
   "source": [
    "물론 문자열에 백슬래시 (\\)를 넣어 표현하는 것도 가능합니다."
   ]
  },
  {
   "cell_type": "code",
   "execution_count": 17,
   "metadata": {},
   "outputs": [
    {
     "name": "stdout",
     "output_type": "stream",
     "text": [
      "Python's favortie food is Perl\n",
      "\"Python is very easy.\", he says.\n"
     ]
    }
   ],
   "source": [
    "print('Python\\'s favortie food is Perl')\n",
    "print (\"\\\"Python is very easy.\\\", he says.\")\n"
   ]
  },
  {
   "cell_type": "markdown",
   "metadata": {},
   "source": [
    "- 예를 들어, 여러줄의 문자열을 입력하려면 어떻게 해야할까?\n",
    "- 원래는 아래와 같이 Escape Code를 입력해야 합니다.\n",
    "- 하지만, Python에서는 이를 해결하기 위해 \"\"\", '''를 도입하였습니다."
   ]
  },
  {
   "cell_type": "code",
   "execution_count": 18,
   "metadata": {},
   "outputs": [
    {
     "name": "stdout",
     "output_type": "stream",
     "text": [
      "Life is too short\n",
      "You need Python.\n"
     ]
    }
   ],
   "source": [
    "print ('Life is too short\\nYou need Python.')"
   ]
  },
  {
   "cell_type": "code",
   "execution_count": 19,
   "metadata": {},
   "outputs": [
    {
     "name": "stdout",
     "output_type": "stream",
     "text": [
      "\n",
      "Life is too short\n",
      "You need Python.\n",
      "\n"
     ]
    }
   ],
   "source": [
    "multiline = \"\"\"\n",
    "Life is too short\n",
    "You need Python.\n",
    "\"\"\"\n",
    "\n",
    "print (multiline)"
   ]
  },
  {
   "cell_type": "markdown",
   "metadata": {},
   "source": [
    "## 문자열 연산하기\n",
    "\n",
    "- 문자열을 사용하다보면 여러개의 문자를 연산으로 처리하고 싶을 때가 많습니다.\n",
    "- 파이선에서는 문자열 전체에 대한 연산이 가능합니다."
   ]
  },
  {
   "cell_type": "code",
   "execution_count": 20,
   "metadata": {},
   "outputs": [
    {
     "name": "stdout",
     "output_type": "stream",
     "text": [
      "Python is fun!\n"
     ]
    }
   ],
   "source": [
    "head = \"Python\"\n",
    "tail = \"is fun!\"\n",
    "\n",
    "print (head+\" \"+tail)"
   ]
  },
  {
   "cell_type": "code",
   "execution_count": 21,
   "metadata": {},
   "outputs": [
    {
     "name": "stdout",
     "output_type": "stream",
     "text": [
      "PythonPythonPython\n"
     ]
    }
   ],
   "source": [
    "print (\"Python\" * 3)"
   ]
  },
  {
   "cell_type": "markdown",
   "metadata": {},
   "source": [
    "## 문자열 인덱싱과 슬라이싱\n",
    "\n",
    "- 다른 언어에서도 마찬가지이지만 문자열은 배열로 저장되어 있습니다.\n",
    "- 파이선에서도 마찬가지이며, 이를 이용한 문자열 인덱싱과 슬라이싱을 해보겠습니다."
   ]
  },
  {
   "cell_type": "code",
   "execution_count": 22,
   "metadata": {},
   "outputs": [
    {
     "name": "stdout",
     "output_type": "stream",
     "text": [
      "i\n",
      "n o h\n",
      "Life\n",
      "You need Python\n",
      "Life is too short, \n",
      "You need Pytho\n"
     ]
    }
   ],
   "source": [
    "a = \"Life is too short, You need Python\"\n",
    "\n",
    "#Life is too short, You need Python\n",
    "#0         1         2         3 \n",
    "#0123456789012345678901234567890123\n",
    "\n",
    "print (a[1])\n",
    "print (a[-1],a[-2],a[-3])\n",
    "print (a[0:4]) # 0<= a < 3\n",
    "print (a[19:])\n",
    "print (a[:19])\n",
    "print (a[19:-1])"
   ]
  },
  {
   "cell_type": "markdown",
   "metadata": {},
   "source": [
    "### 문자열 포매팅"
   ]
  },
  {
   "cell_type": "code",
   "execution_count": 23,
   "metadata": {},
   "outputs": [
    {
     "name": "stdout",
     "output_type": "stream",
     "text": [
      "I eat 3 apples.\n",
      "I eat five apples.\n"
     ]
    }
   ],
   "source": [
    "a = \"I eat %d apples.\" % 3\n",
    "print (a)\n",
    "b = \"I eat %s apples.\" % \"five\"\n",
    "print (b)"
   ]
  },
  {
   "cell_type": "markdown",
   "metadata": {},
   "source": [
    "문자열 포맷코드는 다음과 같습니다. \n",
    "\n",
    "| 코드 | 설명 |\n",
    "|:--:|:--:|\n",
    "| %s | 문자열 (String)|\n",
    "| %c | 문자 1개 (Character) |\n",
    "| %d | 정수 (Integer) |\n",
    "| %f | 부동소수 (Floating-Point)|\n",
    "| %o | 8진수 |\n",
    "| %x | 16진수 |\n",
    "\n"
   ]
  },
  {
   "cell_type": "code",
   "execution_count": 24,
   "metadata": {},
   "outputs": [
    {
     "name": "stdout",
     "output_type": "stream",
     "text": [
      "Error is 98%\n"
     ]
    }
   ],
   "source": [
    "## % 표현하기\n",
    "a = \"Error is %d%%\" % 98\n",
    "print (a)"
   ]
  },
  {
   "cell_type": "code",
   "execution_count": 25,
   "metadata": {},
   "outputs": [
    {
     "name": "stdout",
     "output_type": "stream",
     "text": [
      "3.1416\n"
     ]
    }
   ],
   "source": [
    "## 소수점 표현하기\n",
    "print (\"%.4f\" % 3.141592)"
   ]
  },
  {
   "cell_type": "markdown",
   "metadata": {},
   "source": [
    "### 문자열 관련함수들"
   ]
  },
  {
   "cell_type": "markdown",
   "metadata": {},
   "source": [
    "- 문자열에는, 정확히 말하면 모든 객체에는, 함수가 있습니다.\n",
    "- 다양한 기능들이 존재하며, 여기에서는 우선 문자열을 기준으로 하나씩 살펴보겠습니다.\n",
    "- 어떤 원리로 동작하고, 어떻게 사용하는지는 본 문자열 관련 함수들 마지막에, 그리고 클래스에서 자세하게 다루도록 하겠습니다."
   ]
  },
  {
   "cell_type": "code",
   "execution_count": 26,
   "metadata": {},
   "outputs": [
    {
     "data": {
      "text/plain": [
       "1"
      ]
     },
     "execution_count": 26,
     "metadata": {},
     "output_type": "execute_result"
    }
   ],
   "source": [
    "# 문자 갯수 세기 (Count)\n",
    "\n",
    "a = \"Python\"\n",
    "a.count('y')"
   ]
  },
  {
   "cell_type": "code",
   "execution_count": 27,
   "metadata": {},
   "outputs": [
    {
     "name": "stdout",
     "output_type": "stream",
     "text": [
      "7 7\n"
     ]
    }
   ],
   "source": [
    "# 위치 알려주기 (find)\n",
    "a = \"Python is the Best choice.\"\n",
    "i_num = a.find('i')\n",
    "find_i = a.index('i')\n",
    "\n",
    "print (i_num, find_i)"
   ]
  },
  {
   "cell_type": "code",
   "execution_count": 28,
   "metadata": {},
   "outputs": [
    {
     "data": {
      "text/plain": [
       "'hi'"
      ]
     },
     "execution_count": 28,
     "metadata": {},
     "output_type": "execute_result"
    }
   ],
   "source": [
    "# 대문자를 소문자로 바꾸기 (lower)\n",
    "a = \"HI\"\n",
    "a.lower()"
   ]
  },
  {
   "cell_type": "code",
   "execution_count": 29,
   "metadata": {},
   "outputs": [
    {
     "name": "stdout",
     "output_type": "stream",
     "text": [
      "hi \n",
      " hi\n",
      "hi\n"
     ]
    }
   ],
   "source": [
    "# 공백지우기\n",
    "# 왼쪽 공백 지우기 (lstrip)\n",
    "a = \" hi \"\n",
    "lstrip = a.lstrip()\n",
    "\n",
    "# 오른쪽 공백 지우기 (rstrip)\n",
    "rstrip = a.rstrip()\n",
    "\n",
    "# 양쪽 공백 지우기 (strip)\n",
    "strip = a.strip()\n",
    "\n",
    "print (lstrip)\n",
    "print (rstrip)\n",
    "print (strip)\n"
   ]
  },
  {
   "cell_type": "code",
   "execution_count": 30,
   "metadata": {},
   "outputs": [
    {
     "name": "stdout",
     "output_type": "stream",
     "text": [
      "Perl is the Best choice.\n"
     ]
    }
   ],
   "source": [
    "# 문자열 바꾸기 (replace)\n",
    "\n",
    "a = \"Python is the Best choice.\"\n",
    "replace = a.replace('Python', 'Perl')\n",
    "print (replace)"
   ]
  },
  {
   "cell_type": "code",
   "execution_count": 31,
   "metadata": {},
   "outputs": [
    {
     "name": "stdout",
     "output_type": "stream",
     "text": [
      "['Life', 'is', 'too', 'short']\n",
      "['Life is', ' too short']\n"
     ]
    }
   ],
   "source": [
    "# 문자열 나누기 (split)\n",
    "\n",
    "a = \"Life is too short\"\n",
    "a_list = a.split() # 공백인 경우 스페이스, 엔터, 탭 등을 기준으로 나눠준다.\n",
    "print(a_list)\n",
    "\n",
    "a_comma = \"Life is, too short\"\n",
    "a_comma_list = a_comma.split(\",\")\n",
    "print (a_comma_list)"
   ]
  },
  {
   "cell_type": "code",
   "execution_count": 32,
   "metadata": {},
   "outputs": [
    {
     "name": "stdout",
     "output_type": "stream",
     "text": [
      "I eat 3 apples\n",
      "I eat five apples\n",
      "I eat 6 apples\n",
      "I eat 1 apples, with 2 bananas\n",
      "I eat 3 apples, with 5 bananas\n",
      "I eat {0} / 3 apples\n"
     ]
    }
   ],
   "source": [
    "# 포맷 함수를 이용한 문자열 포맷팅\n",
    "\n",
    "print (\"I eat {0} apples\".format(3))\n",
    "print (\"I eat {0} apples\".format(\"five\"))\n",
    "number = 6\n",
    "print (\"I eat {0} apples\".format(number))\n",
    "print (\"I eat {0} apples, with {1} bananas\".format(1,2))\n",
    "print (\"I eat {num_apple} apples, with {num_bananas} bananas\"\n",
    "       .format(num_apple=3, num_bananas=5))\n",
    "\n",
    "print (\"I eat {{0}} / {0} apples\".format(3))"
   ]
  },
  {
   "cell_type": "code",
   "execution_count": 33,
   "metadata": {},
   "outputs": [
    {
     "name": "stdout",
     "output_type": "stream",
     "text": [
      "Center Align\n",
      "    *     \n",
      "   ***    \n",
      "  *****   \n",
      " *******  \n",
      "********* \n",
      "\n",
      "\n",
      "Right Align\n",
      "         *\n",
      "       ***\n",
      "     *****\n",
      "   *******\n",
      " *********\n",
      "\n",
      "\n",
      "Left Align\n",
      "*         \n",
      "***       \n",
      "*****     \n",
      "*******   \n",
      "********* \n",
      "\n",
      "\n",
      "replace whitespace with =\n",
      "*=========\n",
      "***=======\n",
      "*****=====\n",
      "*******===\n",
      "*********=\n"
     ]
    }
   ],
   "source": [
    "# 문자열의 Align\n",
    "\n",
    "print (\"Center Align\")\n",
    "for i in range(1,10,2):\n",
    "    print (\"{0:^10}\".format(\"*\"*i))\n",
    "\n",
    "print (\"\\n\")\n",
    "print (\"Right Align\")\n",
    "for i in range(1,10,2):\n",
    "    print (\"{0:>10}\".format(\"*\"*i))\n",
    "\n",
    "print (\"\\n\")\n",
    "print (\"Left Align\")\n",
    "for i in range(1,10,2):\n",
    "    print (\"{0:<10}\".format(\"*\"*i))\n",
    "    \n",
    "print (\"\\n\")\n",
    "print (\"replace whitespace with =\")\n",
    "for i in range(1,10,2):\n",
    "    print (\"{0:=<10}\".format(\"*\"*i))\n",
    "\n"
   ]
  },
  {
   "cell_type": "markdown",
   "metadata": {},
   "source": [
    "### bpython!\n",
    "\n",
    "- Linux\n",
    ">sudo apt-get install bpython\n",
    "\n",
    "- Mac\n",
    "> pip3 install bpython"
   ]
  },
  {
   "cell_type": "markdown",
   "metadata": {},
   "source": [
    "## 리스트 자료형"
   ]
  },
  {
   "cell_type": "code",
   "execution_count": 34,
   "metadata": {},
   "outputs": [
    {
     "name": "stdout",
     "output_type": "stream",
     "text": [
      "[] [1, 2, 3] ['Life', 'is', 'too', 'Short'] [4, 5, 6, ['Double', 'Triple']]\n"
     ]
    }
   ],
   "source": [
    "# 리스트 선언 및 값 채우기\n",
    "\n",
    "a = [] # or a = list()\n",
    "b = [1,2,3]\n",
    "c = [\"Life\", \"is\", \"too\", \"Short\"]\n",
    "d = [4,5,6,[\"Double\",\"Triple\"]]\n",
    "print (a,b,c,d)"
   ]
  },
  {
   "cell_type": "code",
   "execution_count": 35,
   "metadata": {},
   "outputs": [
    {
     "name": "stdout",
     "output_type": "stream",
     "text": [
      "a 4\n",
      "Triple\n"
     ]
    }
   ],
   "source": [
    "# 리스트 인덱싱\n",
    "\n",
    "Sample = [\"a\",2,3,4]\n",
    "print (Sample[0], Sample[-1])\n",
    "\n",
    "Sample = [4,5,6,[\"Double\",\"Triple\"]]\n",
    "print (Sample[-1][1])"
   ]
  },
  {
   "cell_type": "code",
   "execution_count": 36,
   "metadata": {},
   "outputs": [
    {
     "name": "stdout",
     "output_type": "stream",
     "text": [
      "[2, 3]\n",
      "['Double']\n"
     ]
    }
   ],
   "source": [
    "# 리스트 슬라이싱\n",
    "\n",
    "Sample = [\"a\",2,3,4]\n",
    "print (Sample[1:3])\n",
    "\n",
    "Sample = [4,5,6,[\"Double\",\"Triple\",\"Quad\"]]\n",
    "print (Sample[-1][:1])"
   ]
  },
  {
   "cell_type": "code",
   "execution_count": 37,
   "metadata": {},
   "outputs": [
    {
     "name": "stdout",
     "output_type": "stream",
     "text": [
      "[1, 2, 3, 4, 5, 6]\n"
     ]
    }
   ],
   "source": [
    "# 리스트의 더하기?\n",
    "\n",
    "A = [1,2,3]\n",
    "B = [4,5,6]\n",
    "C = A+B\n",
    "\n",
    "print (C)"
   ]
  },
  {
   "cell_type": "code",
   "execution_count": 38,
   "metadata": {},
   "outputs": [
    {
     "name": "stdout",
     "output_type": "stream",
     "text": [
      "[1, 2, 4, 4, 5, 6]\n",
      "[1, 7, 8, 4, 5, 6]\n",
      "[[9, 10], 7, 8, 4, 5, 6]\n"
     ]
    }
   ],
   "source": [
    "# 리스트의 수정\n",
    "\n",
    "C[2] = 4\n",
    "print (C)\n",
    "\n",
    "C[1:3] = [7,8]\n",
    "print (C)\n",
    "\n",
    "C[0] = [9,10]\n",
    "print (C)"
   ]
  },
  {
   "cell_type": "code",
   "execution_count": 39,
   "metadata": {},
   "outputs": [
    {
     "name": "stdout",
     "output_type": "stream",
     "text": [
      "[1, 2, 3, 4, 5, 6]\n",
      "[1, 4, 5, 6]\n",
      "[1, 4, 6]\n"
     ]
    }
   ],
   "source": [
    "#리스트의 요소 삭제하기\n",
    "\n",
    "C = A+B\n",
    "print (C)\n",
    "\n",
    "C[1:3]= []\n",
    "print (C)\n",
    "\n",
    "del C[2]\n",
    "print (C)"
   ]
  },
  {
   "cell_type": "markdown",
   "metadata": {},
   "source": [
    "### 리스트 관련 함수들"
   ]
  },
  {
   "cell_type": "code",
   "execution_count": 40,
   "metadata": {},
   "outputs": [
    {
     "name": "stdout",
     "output_type": "stream",
     "text": [
      "[1, 2, 3, 4]\n",
      "[1, 2, 3, 4, [5, 6]]\n"
     ]
    }
   ],
   "source": [
    "# 리스트에 요소 추가\n",
    "\n",
    "A = [1,2,3]\n",
    "A.append(4)\n",
    "print (A)\n",
    "\n",
    "A.append([5,6])\n",
    "print (A)"
   ]
  },
  {
   "cell_type": "code",
   "execution_count": 41,
   "metadata": {},
   "outputs": [
    {
     "name": "stdout",
     "output_type": "stream",
     "text": [
      "[1, 2, 3, 4]\n",
      "None\n"
     ]
    }
   ],
   "source": [
    "# 리스트 정렬\n",
    "\n",
    "A = [4,2,3,1]\n",
    "B = A.sort()\n",
    "print (A)\n",
    "print (B)"
   ]
  },
  {
   "cell_type": "code",
   "execution_count": 42,
   "metadata": {},
   "outputs": [
    {
     "name": "stdout",
     "output_type": "stream",
     "text": [
      "[1, 3, 2, 4]\n"
     ]
    }
   ],
   "source": [
    "# 리스트 뒤집기\n",
    "\n",
    "A = [4,2,3,1]\n",
    "A.reverse()\n",
    "print (A)"
   ]
  },
  {
   "cell_type": "code",
   "execution_count": 43,
   "metadata": {},
   "outputs": [
    {
     "name": "stdout",
     "output_type": "stream",
     "text": [
      "0\n"
     ]
    }
   ],
   "source": [
    "# 리스트 내 위치 \"반환\"\n",
    "\n",
    "A = [1,2,3,4]\n",
    "index_of_1 = A.index(1)\n",
    "print (index_of_1)"
   ]
  },
  {
   "cell_type": "code",
   "execution_count": 44,
   "metadata": {},
   "outputs": [
    {
     "name": "stdout",
     "output_type": "stream",
     "text": [
      "[1, 2, 3, 5, 4]\n"
     ]
    }
   ],
   "source": [
    "# 리스트에 요소 삽입\n",
    "\n",
    "A = [1,2,3,4]\n",
    "A.insert(3,5)\n",
    "print (A)"
   ]
  },
  {
   "cell_type": "code",
   "execution_count": 45,
   "metadata": {},
   "outputs": [
    {
     "name": "stdout",
     "output_type": "stream",
     "text": [
      "[1, 2, 1, 2, 3]\n",
      "[1, 2, 1, 3]\n",
      "2\n"
     ]
    }
   ],
   "source": [
    "# 리스트의 요소 제거\n",
    "\n",
    "A = [1,2,3,1,2,3]\n",
    "A.remove(3) # 3이라는 값을 찾아 첫번째 3을 제거\n",
    "print (A)\n",
    "\n",
    "pop_var = A.pop(3) # index 상 3을 제거\n",
    "print (A)\n",
    "print (pop_var)"
   ]
  },
  {
   "cell_type": "code",
   "execution_count": 46,
   "metadata": {},
   "outputs": [
    {
     "name": "stdout",
     "output_type": "stream",
     "text": [
      "[1, 2, 3, 1, 2, 3, 3]\n",
      "3\n"
     ]
    }
   ],
   "source": [
    "# 리스트 내 요소를 세서 \"반환\"\n",
    "\n",
    "A = [1,2,3,1,2,3,3]\n",
    "cnt_3 = A.count(3)\n",
    "\n",
    "print (A)\n",
    "print (cnt_3)"
   ]
  },
  {
   "cell_type": "code",
   "execution_count": 47,
   "metadata": {},
   "outputs": [
    {
     "name": "stdout",
     "output_type": "stream",
     "text": [
      "[1, 2, 3, 4, 5]\n",
      "[1, 2, 3, 4, 5, 6, 7]\n"
     ]
    }
   ],
   "source": [
    "# 리스트의 확장\n",
    "\n",
    "A = [1,2,3]\n",
    "A.extend([4,5])\n",
    "print (A)\n",
    "\n",
    "B = [6,7]\n",
    "A.extend(B)\n",
    "print (A)"
   ]
  },
  {
   "cell_type": "markdown",
   "metadata": {},
   "source": [
    "## 튜플 자료형\n",
    "\n",
    "- 튜플은 몇 가지 요소를 제외하고는 리스트와 거의 비슷하다.\n",
    " - 리스트는 [과 ]로 둘러싸지만, 튜플은 (와 )로 둘러싼다.\n",
    " - 리스트는 그 값의 생성, 삭제, 수정이 가능하지만, 튜플은 값을 바꿀 수 없다.\n",
    " "
   ]
  },
  {
   "cell_type": "code",
   "execution_count": 48,
   "metadata": {},
   "outputs": [
    {
     "name": "stdout",
     "output_type": "stream",
     "text": [
      "(1, 2, 3, 4, 5, 6) <class 'tuple'>\n",
      "[1, 2, 3, 4, 5, 6] <class 'list'>\n"
     ]
    }
   ],
   "source": [
    "# 튜플의 선언\n",
    "\n",
    "A_t = (1,2,3,4,5,6)\n",
    "A = [1,2,3,4,5,6]\n",
    "\n",
    "print (A_t, type(A_t))\n",
    "print (A, type(A))"
   ]
  },
  {
   "cell_type": "code",
   "execution_count": 49,
   "metadata": {},
   "outputs": [
    {
     "name": "stdout",
     "output_type": "stream",
     "text": [
      "1\n",
      "(2, 3, 4, 5, 6)\n"
     ]
    }
   ],
   "source": [
    "print(A_t[0])\n",
    "print(A_t[1:])"
   ]
  },
  {
   "cell_type": "code",
   "execution_count": 50,
   "metadata": {},
   "outputs": [
    {
     "name": "stdout",
     "output_type": "stream",
     "text": [
      "(1, 2, 3, 4, 5, 6, 7, 8)\n",
      "(1, 2, 3, 4, 5, 6, 7, 8)\n",
      "(7, 8, 7, 8)\n"
     ]
    }
   ],
   "source": [
    "B_t = (7,8)\n",
    "\n",
    "C_t = A_t+B_t\n",
    "print (C_t)\n",
    "\n",
    "A_t = A_t + B_t\n",
    "print (A_t)\n",
    "\n",
    "B_t = B_t * 2\n",
    "print (B_t)\n",
    "\n",
    "#A_t = A + A_t"
   ]
  },
  {
   "cell_type": "markdown",
   "metadata": {},
   "source": [
    "### 튜플 관련 함수들"
   ]
  },
  {
   "cell_type": "code",
   "execution_count": 51,
   "metadata": {},
   "outputs": [
    {
     "name": "stdout",
     "output_type": "stream",
     "text": [
      "(1, 2, 3, 4, 5, 6, 7, 8)\n",
      "1 0\n"
     ]
    }
   ],
   "source": [
    "# 튜플 내에 해당 값의 갯수\n",
    "cnt_8 = A_t.count(8)\n",
    "\n",
    "# 튜플 내 해당 값의 인덱스\n",
    "idx_1 = A_t.index(1)\n",
    "\n",
    "print (A_t)\n",
    "print (cnt_8, idx_1)"
   ]
  },
  {
   "cell_type": "markdown",
   "metadata": {
    "collapsed": true
   },
   "source": [
    "## 딕셔너리 자료형\n",
    "- 파이선의 딕셔너리는 연관배열(Associative Array) / 해시(Hash)와 유사하다.\n",
    "- 딕셔너리는 Key/Value의 한 쌍으로 자료형이 구성되어 있다.\n",
    "- 딕셔너리는 리스트나 튜플처럼 순차적으로 (Sequential) 해당 요소 값을 구하지 않고, Key를 통해 Value를 얻는다.\n",
    "- 일반적으로 데이터 분석에서 가장 많이 쓰인다.\n",
    " - Key는 Label에 해당하며, Value는 Label에 해당하는 리스트로 구성된다."
   ]
  },
  {
   "cell_type": "code",
   "execution_count": 52,
   "metadata": {},
   "outputs": [
    {
     "name": "stdout",
     "output_type": "stream",
     "text": [
      "{'name': 'Kim', 'Phone': '0109137****', 'birth': 1102}\n"
     ]
    }
   ],
   "source": [
    "Dic = {'name' : 'Kim', 'Phone' : '0109137****', 'birth' : 1102}\n",
    "print (Dic)"
   ]
  },
  {
   "cell_type": "code",
   "execution_count": 53,
   "metadata": {},
   "outputs": [
    {
     "name": "stdout",
     "output_type": "stream",
     "text": [
      "{'a': [1, 2, 3]}\n"
     ]
    }
   ],
   "source": [
    "Dic = {'a': [1,2,3]}\n",
    "print (Dic)"
   ]
  },
  {
   "cell_type": "code",
   "execution_count": 54,
   "metadata": {},
   "outputs": [
    {
     "name": "stdout",
     "output_type": "stream",
     "text": [
      "{1: 'a', 2: 'b', 'name': 'Kim', 3: [1, 2, 3]}\n"
     ]
    }
   ],
   "source": [
    "# 딕셔너리 쌍(Pair) 추가\n",
    "\n",
    "a = {1: 'a'}\n",
    "a[2] = 'b' # Key = 2, Value = b\n",
    "a['name'] = \"Kim\"\n",
    "a[3] = [1,2,3]\n",
    "\n",
    "print (a)"
   ]
  },
  {
   "cell_type": "code",
   "execution_count": 55,
   "metadata": {},
   "outputs": [
    {
     "name": "stdout",
     "output_type": "stream",
     "text": [
      "{2: 'b', 'name': 'Kim', 3: [1, 2, 3]}\n"
     ]
    }
   ],
   "source": [
    "# 딕셔너리 요소 삭제\n",
    "\n",
    "del a[1]\n",
    "print (a)"
   ]
  },
  {
   "cell_type": "code",
   "execution_count": 56,
   "metadata": {},
   "outputs": [
    {
     "name": "stdout",
     "output_type": "stream",
     "text": [
      "10\n",
      "pey\n",
      "0119993323\n",
      "1118\n"
     ]
    }
   ],
   "source": [
    "# 딕셔너리를 사용하는 방법\n",
    "\n",
    "Grade = {'Pey' : 10, 'Juliet' : 99}\n",
    "\n",
    "print (Grade['Pey']) # List의 사용법과 동일하다.\n",
    "\n",
    "dic = {'name':'pey', 'phone':'0119993323', 'birth': '1118'}\n",
    "\n",
    "print (dic['name'])\n",
    "print (dic['phone'])\n",
    "print (dic['birth'])"
   ]
  },
  {
   "cell_type": "markdown",
   "metadata": {},
   "source": [
    "### 딕셔너리 생성시 주의 사항\n",
    "\n",
    "- 딕셔너리의 Key는 고유한 값이므로 중복된 Key 값을 설정해 놓으면 하나를 제외한 나머지 모든 것들이 무시된다는 점을 주의해야한다.\n",
    " - 예를 들어, 동일한 key가 두개 존재하는 경우, 하나의 값만 살아남는다.\n",
    " - 이때, 무시되는 값은 어떤 것이 될지 예측할 수 없다.\n",
    "- 딕셔너리의 Key는 고유한 값이므로 List를 쓸 수 없고, 튜플은 가능하다.\n",
    " - 튜플이 변형되지 않는 값임을 고려하자."
   ]
  },
  {
   "cell_type": "markdown",
   "metadata": {},
   "source": [
    "### 딕셔너리 관련 함수들"
   ]
  },
  {
   "cell_type": "code",
   "execution_count": 57,
   "metadata": {},
   "outputs": [
    {
     "name": "stdout",
     "output_type": "stream",
     "text": [
      "dict_keys(['name', 'phone', 'birth']) <class 'builtin_function_or_method'>\n",
      "['name', 'phone', 'birth'] <class 'list'>\n",
      "name\n",
      "phone\n",
      "birth\n"
     ]
    }
   ],
   "source": [
    "# Key List 만들기\n",
    "\n",
    "a = {'name': 'pey', 'phone': '0119993323', 'birth': '1118'}\n",
    "\n",
    "print (a.keys(),type(a.keys)) # keys 그 자체로는 활용하기가 어렵다.\n",
    "print (list(a.keys()), type(list(a.keys())))\n",
    "\n",
    "for i in list(a.keys()): # list로 만들어 다음과 같이 활용하는 것이 가능하다.\n",
    "    print (i)"
   ]
  },
  {
   "cell_type": "code",
   "execution_count": 58,
   "metadata": {},
   "outputs": [
    {
     "name": "stdout",
     "output_type": "stream",
     "text": [
      "dict_values(['pey', '0119993323', '1118']) <class 'dict_values'>\n",
      "['pey', '0119993323', '1118'] <class 'list'>\n"
     ]
    }
   ],
   "source": [
    "# Value 리스트 만들기\n",
    "\n",
    "print (a.values(), type(a.values()))\n",
    "print (list(a.values()), type(list(a.values())))"
   ]
  },
  {
   "cell_type": "code",
   "execution_count": 59,
   "metadata": {},
   "outputs": [
    {
     "name": "stdout",
     "output_type": "stream",
     "text": [
      "dict_items([('name', 'pey'), ('phone', '0119993323'), ('birth', '1118')])\n",
      "[('name', 'pey'), ('phone', '0119993323'), ('birth', '1118')]\n",
      "name : pey\n",
      "phone : 0119993323\n",
      "birth : 1118\n"
     ]
    }
   ],
   "source": [
    "# Key, Value 쌍으로 얻기\n",
    "\n",
    "print (a.items())\n",
    "print (list(a.items()))\n",
    "\n",
    "for key,value in list(a.items()):\n",
    "    print (key, \":\", value)"
   ]
  },
  {
   "cell_type": "code",
   "execution_count": 60,
   "metadata": {},
   "outputs": [
    {
     "name": "stdout",
     "output_type": "stream",
     "text": [
      "{'name': 'pey', 'phone': '0119993323', 'birth': '1118'}\n",
      "{}\n"
     ]
    }
   ],
   "source": [
    "# Value 쌍 모두 지우기\n",
    "\n",
    "print (a)\n",
    "a.clear()\n",
    "print (a)"
   ]
  },
  {
   "cell_type": "code",
   "execution_count": 61,
   "metadata": {},
   "outputs": [
    {
     "name": "stdout",
     "output_type": "stream",
     "text": [
      "True\n",
      "False\n",
      "name exists.\n"
     ]
    }
   ],
   "source": [
    "# 해당 Key가 딕셔너리 안에 있는지 조사하기\n",
    "\n",
    "a = {'name':'pey', 'phone':'0119993323', 'birth': '1118'}\n",
    "\n",
    "print ('name' in a)\n",
    "print ('address' in a)\n",
    "\n",
    "if ('name' in a):\n",
    "    print (\"name exists.\")"
   ]
  },
  {
   "cell_type": "markdown",
   "metadata": {},
   "source": [
    "## 집합 자료형\n",
    "- 집합(set)은 말 그대로 집합에 관련된 것들을 처리하기 쉽게하기 위해 만들어진 자료형이다.\n",
    "- 집합은 중복을 허용하지 않는다.\n",
    "- 집합은 순서가 존재하지 않는다.\n",
    "\n",
    "- 따라서, 집합은 순서가 없기 때문에 인덱싱을 통해 값을 얻을 수 없다.\n",
    " - set 자료형에 저장된 값을 인덱싱으로 접근하려면, 리스트나 튜플로 변환한 후 해야 한다."
   ]
  },
  {
   "cell_type": "code",
   "execution_count": 62,
   "metadata": {},
   "outputs": [
    {
     "name": "stdout",
     "output_type": "stream",
     "text": [
      "{1, 2, 3} <class 'set'>\n"
     ]
    }
   ],
   "source": [
    "s1 = set([1,2,3])\n",
    "print (s1, type(s1))"
   ]
  },
  {
   "cell_type": "code",
   "execution_count": 63,
   "metadata": {},
   "outputs": [
    {
     "name": "stdout",
     "output_type": "stream",
     "text": [
      "{'l', 'o', 'h', 'e'}\n"
     ]
    }
   ],
   "source": [
    "s2 = set(\"hello\")\n",
    "print (s2)"
   ]
  },
  {
   "cell_type": "markdown",
   "metadata": {},
   "source": [
    "### 집합 자료형의 활용방법"
   ]
  },
  {
   "cell_type": "code",
   "execution_count": 64,
   "metadata": {},
   "outputs": [
    {
     "name": "stdout",
     "output_type": "stream",
     "text": [
      "{4, 5, 6} <class 'set'>\n",
      "{4, 5, 6} <class 'set'>\n"
     ]
    }
   ],
   "source": [
    "# 교집합 \n",
    "s1 = set([1, 2, 3, 4, 5, 6])\n",
    "s2 = set([4, 5, 6, 7, 8, 9])\n",
    "\n",
    "s3 = s1&s2\n",
    "s4 = s1.intersection(s2)\n",
    "print (s3, type(s3))\n",
    "print (s4, type(s4))"
   ]
  },
  {
   "cell_type": "code",
   "execution_count": 65,
   "metadata": {},
   "outputs": [
    {
     "name": "stdout",
     "output_type": "stream",
     "text": [
      "{1, 2, 3, 4, 5, 6, 7, 8, 9} <class 'set'>\n",
      "{1, 2, 3, 4, 5, 6, 7, 8, 9} <class 'set'>\n"
     ]
    }
   ],
   "source": [
    "# 합집합\n",
    "\n",
    "s5 = s1 | s2\n",
    "s6 = s1.union(s2)\n",
    "\n",
    "print (s5, type(s5))\n",
    "print (s6, type(s6))"
   ]
  },
  {
   "cell_type": "code",
   "execution_count": 66,
   "metadata": {},
   "outputs": [
    {
     "name": "stdout",
     "output_type": "stream",
     "text": [
      "{1, 2, 3} {1, 2, 3}\n",
      "{8, 9, 7} {8, 9, 7}\n"
     ]
    }
   ],
   "source": [
    "# 차집합\n",
    "\n",
    "s1_diff = s1 - s2\n",
    "s2_diff = s2 - s1\n",
    "\n",
    "s1_diff_ftn = s1.difference(s2)\n",
    "s2_diff_ftn = s2.difference(s1)\n",
    "\n",
    "print (s1_diff, s1_diff_ftn)\n",
    "print (s2_diff, s2_diff_ftn)"
   ]
  },
  {
   "cell_type": "markdown",
   "metadata": {},
   "source": [
    "### 집합 자료형 관련 함수들"
   ]
  },
  {
   "cell_type": "code",
   "execution_count": 67,
   "metadata": {},
   "outputs": [
    {
     "name": "stdout",
     "output_type": "stream",
     "text": [
      "s1 :  {1, 2, 3}\n",
      "s1_add :  {1, 2, 3, 4}\n",
      "s1_add_multi :  {1, 2, 3, 4, 5, 6, 7}\n"
     ]
    }
   ],
   "source": [
    "# 값 추가하기\n",
    "\n",
    "s1 = set([1,2,3])\n",
    "print (\"s1 : \",s1)\n",
    "\n",
    "s1.add(4)\n",
    "print (\"s1_add : \",s1)\n",
    "\n",
    "s1.update([5,6,7])\n",
    "print (\"s1_add_multi : \",s1)"
   ]
  },
  {
   "cell_type": "code",
   "execution_count": 68,
   "metadata": {},
   "outputs": [
    {
     "name": "stdout",
     "output_type": "stream",
     "text": [
      "{1, 3, 4, 5, 6, 7}\n"
     ]
    }
   ],
   "source": [
    "# 특정 값 제거하기\n",
    "\n",
    "s1.remove(2)\n",
    "print (s1)\n",
    "\n",
    "# s1.remove([5,6,7]) 는 불가능"
   ]
  },
  {
   "cell_type": "markdown",
   "metadata": {},
   "source": [
    "# 프로그램의 구조, 제어문"
   ]
  },
  {
   "cell_type": "markdown",
   "metadata": {},
   "source": [
    "## IF문 \n",
    "- 파이선에서는 모든 코드블럭을 들여쓰기로만 구분합니다.\n",
    "- 따라서, if문 부터는 코드블럭이 필요한 구간이므로, 들여쓰기가 매우 중요해집니다.\n",
    "\n",
    "- 파이선에서는 Tab을 쓰지 않고, 4칸의 공백을 통해 코드를 작성할 것을 권장합니다.\n",
    " - 하지만, 대부분의 파이선 편집 프로그램에서는 탭을 입력하는 경우 4칸의 공백으로 많이들 변환해주니 크게 신경쓰시지 않아도 됩니다."
   ]
  },
  {
   "cell_type": "code",
   "execution_count": 69,
   "metadata": {},
   "outputs": [
    {
     "name": "stdout",
     "output_type": "stream",
     "text": [
      "Take a taxi\n"
     ]
    }
   ],
   "source": [
    "money = 1000\n",
    "\n",
    "if money:\n",
    "    print(\"Take a taxi\")\n",
    "else:\n",
    "    print(\"Walk\")"
   ]
  },
  {
   "cell_type": "markdown",
   "metadata": {},
   "source": [
    "## 자료형에 따른 참/거짓 조건\n",
    "|자료형|참|거짓|\n",
    "|:--:|:--:|:--:|\n",
    "|숫자 | 0이 아닌 수 | 0|\n",
    "|문자열 | \"abc\".. | \"\"|\n",
    "|리스트 | [1,2,3].. | []|\n",
    "|튜플 | (1,2,3).. | ()|\n",
    "|딕셔너리 | {\"a\":\"b\"} | {}|\n",
    "\n",
    "- 간단히말해, 0과 모든 공백으로 이루어진 자료형이 거짓이 됩니다.\n",
    "- 위의 예제에서 money = 1000이었기 때문에 참으로 분류된 경우 입니다."
   ]
  },
  {
   "cell_type": "code",
   "execution_count": 70,
   "metadata": {},
   "outputs": [
    {
     "name": "stdout",
     "output_type": "stream",
     "text": [
      "Take a taxi\n"
     ]
    }
   ],
   "source": [
    "if (money > 500):\n",
    "    print(\"Take a taxi\")\n",
    "else:\n",
    "    print(\"Walk\")"
   ]
  },
  {
   "cell_type": "markdown",
   "metadata": {},
   "source": [
    "### 비교연산자\n",
    "\n",
    "|비교연산자|설명|\n",
    "|:--:|:--:|\n",
    "|x<y|x가 y보다 작다|\n",
    "|x>y|x가 y보다 크다|\n",
    "|x==y|x와 y가 같다|\n",
    "|x!=y|x와 y가 같지 않다|\n",
    "|x >= y\t|x가 y보다 크거나 같다|\n",
    "|x <= y|x가 y보다 작거나 같다|"
   ]
  },
  {
   "cell_type": "code",
   "execution_count": 71,
   "metadata": {},
   "outputs": [
    {
     "name": "stdout",
     "output_type": "stream",
     "text": [
      "택시를 타고 가라\n"
     ]
    }
   ],
   "source": [
    "money = 2000\n",
    "card = 1\n",
    "if money >= 3000 or card:\n",
    "    print(\"택시를 타고 가라\")\n",
    "else:\n",
    "    print(\"걸어가라\")\n"
   ]
  },
  {
   "cell_type": "markdown",
   "metadata": {},
   "source": [
    "### 논리 연산자\n",
    "\n",
    "|연산자1|설명|\n",
    "|:--:|:--:|\n",
    "|x or y | x와 y 둘중에 하나만 참이면 참이다. | \n",
    "|x and y | x와 y 모두 참이어야 참이다. |\n",
    "| not x | x가 거짓이면 참이다.|\n"
   ]
  },
  {
   "cell_type": "code",
   "execution_count": 74,
   "metadata": {},
   "outputs": [
    {
     "name": "stdout",
     "output_type": "stream",
     "text": [
      "True\n",
      "False\n"
     ]
    }
   ],
   "source": [
    "print (1 in [1,2,3])\n",
    "print (1 not in [1,2,3])"
   ]
  },
  {
   "cell_type": "code",
   "execution_count": 77,
   "metadata": {},
   "outputs": [
    {
     "name": "stdout",
     "output_type": "stream",
     "text": [
      "Take a taxi\n"
     ]
    }
   ],
   "source": [
    "wallet = [\"Card\",\"T-money\",\"IDcard\"]\n",
    "\n",
    "if \"Card\" in wallet:\n",
    "    print(\"Take a taxi\")\n",
    "else:\n",
    "    print(\"Take a bus\")"
   ]
  },
  {
   "cell_type": "markdown",
   "metadata": {},
   "source": [
    "### x in s, x not in s\n",
    "- 파이선에서는 다른 프로그래밍 언어에서 쉽게 볼 수 없는 재미있는 조건문을 제공한다.\n",
    "\n",
    "|in| not in|\n",
    "|:---:|:---:|\n",
    "|x in list | x not in list|\n",
    "|x in tuple | x not in tuple|\n",
    "|x in string | x not in string |\n",
    "\n",
    "- 사실 문자열도 하나의 리스트로 간주 할 수 있기 때문에 위와 같은 식을 쓰는 것이 가능하다."
   ]
  },
  {
   "cell_type": "code",
   "execution_count": 81,
   "metadata": {},
   "outputs": [],
   "source": [
    "# pass의 활용법\n",
    "\n",
    "pocket = ['paper', 'money', 'cellphone']\n",
    "\n",
    "if 'money' in pocket:\n",
    "    pass\n",
    "else:\n",
    "    print(\"카드를 꺼내라\")"
   ]
  },
  {
   "cell_type": "markdown",
   "metadata": {},
   "source": [
    "## Elif\n",
    "- if 와 else만으로는 다양한 조건을 판단하기 어렵다.\n",
    "- 이러한 다중조건 문제를 풀기 위해 파이선에서는 elif라는 것을 사용한다.\n",
    "- elif는 이전 조건문이 거짓일 때 수행된다."
   ]
  },
  {
   "cell_type": "code",
   "execution_count": 82,
   "metadata": {},
   "outputs": [
    {
     "name": "stdout",
     "output_type": "stream",
     "text": [
      "택시를 타고가라\n"
     ]
    }
   ],
   "source": [
    "pocket = ['paper', 'cellphone']\n",
    "card = 1\n",
    "if 'money' in pocket:\n",
    "    print(\"택시를 타고가라\")\n",
    "elif card: \n",
    "    print(\"택시를 타고가라\")\n",
    "else:\n",
    "    print(\"걸어가라\")"
   ]
  },
  {
   "cell_type": "markdown",
   "metadata": {},
   "source": [
    "# While"
   ]
  },
  {
   "cell_type": "markdown",
   "metadata": {},
   "source": [
    "- 반복해서 문장을 수행해야 할 경우 사용하는 구문\n",
    "\n",
    "```python\n",
    "while <조건문> :\n",
    "    <수행할 문장 1>\n",
    "    <수행할 문장 2>\n",
    "    <수행할 문장 3>\n",
    "```\n",
    "\n",
    "- 위와 같은 구조로 이루어져 있다.\n",
    " - 조건문이 참일 동안에 while문 아래에 속하는 문장들이 반복해서 수행되는 구조.\n"
   ]
  },
  {
   "cell_type": "code",
   "execution_count": 84,
   "metadata": {},
   "outputs": [
    {
     "name": "stdout",
     "output_type": "stream",
     "text": [
      "나무를 1번 찍었습니다.\n",
      "나무를 2번 찍었습니다.\n",
      "나무를 3번 찍었습니다.\n",
      "나무를 4번 찍었습니다.\n",
      "나무를 5번 찍었습니다.\n",
      "나무를 6번 찍었습니다.\n",
      "나무를 7번 찍었습니다.\n",
      "나무를 8번 찍었습니다.\n",
      "나무를 9번 찍었습니다.\n",
      "나무를 10번 찍었습니다.\n",
      "나무 넘어갑니다.\n"
     ]
    }
   ],
   "source": [
    "treeHit = 0\n",
    "while treeHit < 10:\n",
    "    treeHit = treeHit +1\n",
    "    print(\"나무를 %d번 찍었습니다.\" % treeHit)\n",
    "    \n",
    "    if treeHit == 10:\n",
    "        print(\"나무 넘어갑니다.\")"
   ]
  },
  {
   "cell_type": "markdown",
   "metadata": {},
   "source": [
    "## while문 강제로 빠져나가기 (break)\n",
    "- while문은 조건문이 참인 동안 계속해서 수행한다.\n",
    "- 코드를 작성하다보면, 조건문의 참이 성립하지 않았더라도, 중간에 while 문을 빠져나가야 하는 경우가 있다.\n",
    "- 이러한 경우를 위해 존재하는 것이 break문이다."
   ]
  },
  {
   "cell_type": "code",
   "execution_count": 85,
   "metadata": {},
   "outputs": [
    {
     "name": "stdout",
     "output_type": "stream",
     "text": [
      "돈을 받았으니 커피를 줍니다.\n",
      "남은 커피의 양은 9개입니다.\n",
      "돈을 받았으니 커피를 줍니다.\n",
      "남은 커피의 양은 8개입니다.\n",
      "돈을 받았으니 커피를 줍니다.\n",
      "남은 커피의 양은 7개입니다.\n",
      "돈을 받았으니 커피를 줍니다.\n",
      "남은 커피의 양은 6개입니다.\n",
      "돈을 받았으니 커피를 줍니다.\n",
      "남은 커피의 양은 5개입니다.\n",
      "돈을 받았으니 커피를 줍니다.\n",
      "남은 커피의 양은 4개입니다.\n",
      "돈을 받았으니 커피를 줍니다.\n",
      "남은 커피의 양은 3개입니다.\n",
      "돈을 받았으니 커피를 줍니다.\n",
      "남은 커피의 양은 2개입니다.\n",
      "돈을 받았으니 커피를 줍니다.\n",
      "남은 커피의 양은 1개입니다.\n",
      "돈을 받았으니 커피를 줍니다.\n",
      "남은 커피의 양은 0개입니다.\n",
      "커피가 다 떨어졌습니다. 판매를 중지합니다.\n"
     ]
    }
   ],
   "source": [
    "coffee = 10\n",
    "money = 300\n",
    "while money:\n",
    "    print(\"돈을 받았으니 커피를 줍니다.\")\n",
    "    coffee = coffee -1\n",
    "    print(\"남은 커피의 양은 %d개입니다.\" % coffee)\n",
    "    if not coffee:\n",
    "        print(\"커피가 다 떨어졌습니다. 판매를 중지합니다.\")\n",
    "        break"
   ]
  },
  {
   "cell_type": "code",
   "execution_count": 86,
   "metadata": {},
   "outputs": [
    {
     "name": "stdout",
     "output_type": "stream",
     "text": [
      "돈을 넣어 주세요: 300\n",
      "커피를 줍니다.\n",
      "돈을 넣어 주세요: 200\n",
      "돈을 다시 돌려주고 커피를 주지 않습니다.\n",
      "남은 커피의 양은 9개 입니다.\n",
      "돈을 넣어 주세요: 400\n",
      "거스름돈 100를 주고 커피를 줍니다.\n",
      "돈을 넣어 주세요: 300\n",
      "커피를 줍니다.\n",
      "돈을 넣어 주세요: 300\n",
      "커피를 줍니다.\n",
      "돈을 넣어 주세요: 300\n",
      "커피를 줍니다.\n",
      "돈을 넣어 주세요: 300\n",
      "커피를 줍니다.\n",
      "돈을 넣어 주세요: 300\n",
      "커피를 줍니다.\n",
      "돈을 넣어 주세요: 300\n",
      "커피를 줍니다.\n",
      "돈을 넣어 주세요: 300\n",
      "커피를 줍니다.\n",
      "돈을 넣어 주세요: 300\n",
      "커피를 줍니다.\n",
      "커피가 다 떨어졌습니다. 판매를 중지 합니다.\n"
     ]
    }
   ],
   "source": [
    "coffee = 10\n",
    "while True:\n",
    "    money = int(input(\"돈을 넣어 주세요: \"))\n",
    "    if money == 300:\n",
    "        print(\"커피를 줍니다.\")\n",
    "        coffee = coffee -1\n",
    "    elif money > 300:\n",
    "        print(\"거스름돈 %d를 주고 커피를 줍니다.\" % (money -300))\n",
    "        coffee = coffee -1\n",
    "    else:\n",
    "        print(\"돈을 다시 돌려주고 커피를 주지 않습니다.\")\n",
    "        print(\"남은 커피의 양은 %d개 입니다.\" % coffee)\n",
    "    if not coffee:\n",
    "        print(\"커피가 다 떨어졌습니다. 판매를 중지 합니다.\")\n",
    "        break"
   ]
  },
  {
   "cell_type": "markdown",
   "metadata": {},
   "source": [
    "## 조건에 맞지 않는 경우 맨 처음으로 돌아가기 (continue)"
   ]
  },
  {
   "cell_type": "code",
   "execution_count": 88,
   "metadata": {},
   "outputs": [
    {
     "name": "stdout",
     "output_type": "stream",
     "text": [
      "1\n",
      "3\n",
      "5\n",
      "7\n",
      "9\n"
     ]
    }
   ],
   "source": [
    "a = 0\n",
    "while a < 10:\n",
    "    a = a+1\n",
    "    if a%2 == 0: continue\n",
    "    print (a)"
   ]
  },
  {
   "cell_type": "markdown",
   "metadata": {},
   "source": [
    "# for"
   ]
  },
  {
   "cell_type": "markdown",
   "metadata": {},
   "source": [
    "## for 문의 기본구조\n",
    "\n",
    "- for문은 프로그래밍에서 매우 중요한 요소 중 하나이다.\n",
    "- C와 다르게 Python에서의 for는 어떤 조건에 의해서 결정되는 것이 아닌, 제시된 리스트/튜플/문자열에 대해 순환하며 값을 리턴하는 구조이다.\n",
    "\n",
    "```python\n",
    "for 변수 in 리스트(또는 튜플, 문자열):\n",
    "    수행할 문장1\n",
    "    수행할 문장2\n",
    "    ...\n",
    "```"
   ]
  },
  {
   "cell_type": "code",
   "execution_count": 90,
   "metadata": {},
   "outputs": [
    {
     "name": "stdout",
     "output_type": "stream",
     "text": [
      "one\n",
      "two\n",
      "three\n"
     ]
    }
   ],
   "source": [
    "test_list = [\"one\", \"two\", \"three\"]\n",
    "for i in test_list:\n",
    "    print (i)"
   ]
  },
  {
   "cell_type": "code",
   "execution_count": 91,
   "metadata": {},
   "outputs": [
    {
     "name": "stdout",
     "output_type": "stream",
     "text": [
      "1 2 3\n",
      "3 4 7\n",
      "5 6 11\n"
     ]
    }
   ],
   "source": [
    "a = [(1,2), (3,4), (5,6)]\n",
    "for (first, last) in a:\n",
    "    print (first, last, first+last)"
   ]
  },
  {
   "cell_type": "code",
   "execution_count": 92,
   "metadata": {},
   "outputs": [
    {
     "name": "stdout",
     "output_type": "stream",
     "text": [
      "1번 학생은 합격입니다.\n",
      "2번 학생은 불합격입니다.\n",
      "3번 학생은 합격입니다.\n",
      "4번 학생은 불합격입니다.\n",
      "5번 학생은 합격입니다.\n"
     ]
    }
   ],
   "source": [
    "marks = [90, 25, 67, 45, 80]\n",
    "\n",
    "marks = [90, 25, 67, 45, 80]\n",
    "\n",
    "number = 0 \n",
    "for mark in marks: \n",
    "    number = number +1 \n",
    "    if mark >= 60: \n",
    "        print(\"%d번 학생은 합격입니다.\" % number)\n",
    "    else: \n",
    "        print(\"%d번 학생은 불합격입니다.\" % number)\n"
   ]
  },
  {
   "cell_type": "code",
   "execution_count": 97,
   "metadata": {},
   "outputs": [
    {
     "name": "stdout",
     "output_type": "stream",
     "text": [
      "1번 학생 축하합니다. 합격입니다. \n",
      "3번 학생 축하합니다. 합격입니다. \n",
      "5번 학생 축하합니다. 합격입니다. \n"
     ]
    }
   ],
   "source": [
    "# for loop with continue\n",
    "\n",
    "marks = [90, 25, 67, 45, 80]\n",
    "\n",
    "number = 0 \n",
    "for mark in marks: \n",
    "    number = number +1 \n",
    "    if mark < 60: continue \n",
    "    print(\"%d번 학생 축하합니다. 합격입니다. \" % number)"
   ]
  },
  {
   "cell_type": "markdown",
   "metadata": {},
   "source": [
    "- 그렇다면, C와 같이 for를 설정할 수는 없을까? "
   ]
  },
  {
   "cell_type": "code",
   "execution_count": 96,
   "metadata": {},
   "outputs": [
    {
     "name": "stdout",
     "output_type": "stream",
     "text": [
      "0\n",
      "2\n",
      "4\n",
      "6\n",
      "8\n",
      "range(0, 10, 2) <class 'range'>\n"
     ]
    }
   ],
   "source": [
    "# for i in range(start,stop,step):\n",
    "\n",
    "for i in range(0,10,2):\n",
    "    print (i)\n",
    "\n",
    "# python 내에 내장된 range class를 통해 쉽게 구현 할 수 있다.\n",
    "print (range(0,10,2),type(range(0,10,2)))\n"
   ]
  },
  {
   "cell_type": "code",
   "execution_count": 98,
   "metadata": {},
   "outputs": [
    {
     "name": "stdout",
     "output_type": "stream",
     "text": [
      "2 4 6 8 10 12 14 16 18 \n",
      "3 6 9 12 15 18 21 24 27 \n",
      "4 8 12 16 20 24 28 32 36 \n",
      "5 10 15 20 25 30 35 40 45 \n",
      "6 12 18 24 30 36 42 48 54 \n",
      "7 14 21 28 35 42 49 56 63 \n",
      "8 16 24 32 40 48 56 64 72 \n",
      "9 18 27 36 45 54 63 72 81 \n"
     ]
    }
   ],
   "source": [
    "for i in range(2,10):\n",
    "    for j in range(1,10):\n",
    "        print (i*j, end=\" \") # END?\n",
    "    print ('') # ?"
   ]
  },
  {
   "cell_type": "markdown",
   "metadata": {},
   "source": [
    "## 리스트 안에 for문 포함하기\n",
    "- 리스트 안에 for 문을 포함하는 리스트 내포 (List Comprehension)을 이용하면 좀 더 편리하고 직관적인 프로그램을 만들 수 있다."
   ]
  },
  {
   "cell_type": "code",
   "execution_count": 100,
   "metadata": {},
   "outputs": [
    {
     "name": "stdout",
     "output_type": "stream",
     "text": [
      "[3, 6, 9, 12]\n",
      "[3, 6, 9, 12]\n"
     ]
    }
   ],
   "source": [
    "a = [1,2,3,4]\n",
    "result = []\n",
    "\n",
    "for num in a:\n",
    "    result.append(num*3)\n",
    "\n",
    "print (result)\n",
    "\n",
    "# ===========================\n",
    "\n",
    "result = [num*3 for num in a]\n",
    "print (result)\n",
    "    "
   ]
  },
  {
   "cell_type": "code",
   "execution_count": 101,
   "metadata": {},
   "outputs": [
    {
     "name": "stdout",
     "output_type": "stream",
     "text": [
      "[6, 12]\n"
     ]
    }
   ],
   "source": [
    "# [표현식 for 항목 in 반복 가능개체 if 조건]의 형태도 가능하다!!\n",
    "\n",
    "result = [num*3 for num in a if num %2 ==0]\n",
    "print (result)"
   ]
  },
  {
   "cell_type": "code",
   "execution_count": 103,
   "metadata": {},
   "outputs": [
    {
     "name": "stdout",
     "output_type": "stream",
     "text": [
      "[2, 4, 6, 8, 10, 12, 14, 16, 18, 3, 6, 9, 12, 15, 18, 21, 24, 27, 4, 8, 12, 16, 20, 24, 28, 32, 36, 5, 10, 15, 20, 25, 30, 35, 40, 45, 6, 12, 18, 24, 30, 36, 42, 48, 54, 7, 14, 21, 28, 35, 42, 49, 56, 63, 8, 16, 24, 32, 40, 48, 56, 64, 72, 9, 18, 27, 36, 45, 54, 63, 72, 81]\n"
     ]
    }
   ],
   "source": [
    "# 조금은 복잡하지만 n개의 for loop도 가능하다.\n",
    "\n",
    "\"\"\"\n",
    "[표현식 for 항목1 in 반복가능객체1 if 조건1\n",
    "        for 항목2 in 반복가능객체2 if 조건2\n",
    "        ...\n",
    "        for 항목n in 반복가능객체n if 조건n]\n",
    "\"\"\"\n",
    "\n",
    "result = [x*y for x in range(2,10) for y in range(1,10)]\n",
    "print(result)"
   ]
  },
  {
   "cell_type": "markdown",
   "metadata": {},
   "source": [
    "# Function"
   ]
  },
  {
   "cell_type": "markdown",
   "metadata": {},
   "source": [
    "> 함수를 사용하는 이유는 무엇일까?\n",
    "\n",
    "- 반복적으로 사용되는 가치 있는 부분을 한 뭉치로 묶어서,\n",
    "- \"어떤 입력 값을 주었을 때, 어떤 결과 값을 돌려준다\"\n",
    "\n",
    "- 함수를 잘 이용하고 함수를 적절하게 만들 줄 아는 것이 곧 프로그래밍 능력이다."
   ]
  },
  {
   "cell_type": "code",
   "execution_count": 104,
   "metadata": {
    "collapsed": true
   },
   "outputs": [],
   "source": [
    "# \"이 함수의 이름(함수명)은 sum이고 입력 인수로 2개의 값을 받으며 \n",
    "# 결과값은 2개의 입력값을 더한 값이다.\"\n",
    "\n",
    "def sum(a,b):\n",
    "    return a+b"
   ]
  },
  {
   "cell_type": "code",
   "execution_count": 106,
   "metadata": {},
   "outputs": [
    {
     "name": "stdout",
     "output_type": "stream",
     "text": [
      "7\n"
     ]
    }
   ],
   "source": [
    "a = 3\n",
    "b = 4\n",
    "c = sum(a,b)\n",
    "\n",
    "print (c)"
   ]
  },
  {
   "cell_type": "code",
   "execution_count": 107,
   "metadata": {
    "collapsed": true
   },
   "outputs": [],
   "source": [
    "# 입력 값이 없는 함수\n",
    "\n",
    "def say():\n",
    "    return \"hi\""
   ]
  },
  {
   "cell_type": "code",
   "execution_count": 111,
   "metadata": {},
   "outputs": [
    {
     "name": "stdout",
     "output_type": "stream",
     "text": [
      "hi\n"
     ]
    }
   ],
   "source": [
    "a = say()\n",
    "print (a)"
   ]
  },
  {
   "cell_type": "code",
   "execution_count": 109,
   "metadata": {
    "collapsed": true
   },
   "outputs": [],
   "source": [
    "# 결과 값이 없는 함수\n",
    "\n",
    "def sum(a,b):\n",
    "    print(\"%d, %d의 합은 %d입니다.\" % (a, b, a+b))\n"
   ]
  },
  {
   "cell_type": "code",
   "execution_count": 110,
   "metadata": {},
   "outputs": [
    {
     "name": "stdout",
     "output_type": "stream",
     "text": [
      "3, 4의 합은 7입니다.\n"
     ]
    }
   ],
   "source": [
    "sum(3,4)"
   ]
  },
  {
   "cell_type": "code",
   "execution_count": 112,
   "metadata": {
    "collapsed": true
   },
   "outputs": [],
   "source": [
    "# 입력 값도 결과 값도 없는 함수\n",
    "\n",
    "def say():\n",
    "    print (\"Hi\")"
   ]
  },
  {
   "cell_type": "code",
   "execution_count": 113,
   "metadata": {},
   "outputs": [
    {
     "name": "stdout",
     "output_type": "stream",
     "text": [
      "Hi\n"
     ]
    }
   ],
   "source": [
    "say()"
   ]
  },
  {
   "cell_type": "code",
   "execution_count": 114,
   "metadata": {
    "collapsed": true
   },
   "outputs": [],
   "source": [
    "# 입력 값이 몇 개가 될지 모를 때는 어떻게 해야 할까?\n",
    "\n",
    "def sum_many(*args):\n",
    "    sum = 0\n",
    "    for i in args:\n",
    "        sum = sum+i\n",
    "    return sum"
   ]
  },
  {
   "cell_type": "code",
   "execution_count": 117,
   "metadata": {},
   "outputs": [
    {
     "name": "stdout",
     "output_type": "stream",
     "text": [
      "6\n"
     ]
    }
   ],
   "source": [
    "result = sum_many(1,2,3)\n",
    "print (result)\n",
    "\n",
    "# 하지만, 이렇게 구현하는 것보다는 list를 통해 입력받고\n",
    "# list를 통해 구현하는 것이 수월하다."
   ]
  },
  {
   "cell_type": "code",
   "execution_count": 118,
   "metadata": {
    "collapsed": true
   },
   "outputs": [],
   "source": [
    "def sum_mul(choice, *args): \n",
    "    if choice == \"sum\": \n",
    "        result = 0 \n",
    "        for i in args: \n",
    "            result = result + i \n",
    "    elif choice == \"mul\": \n",
    "        result = 1 \n",
    "        for i in args: \n",
    "            result = result * i \n",
    "    return result"
   ]
  },
  {
   "cell_type": "code",
   "execution_count": 119,
   "metadata": {},
   "outputs": [
    {
     "name": "stdout",
     "output_type": "stream",
     "text": [
      "15\n",
      "120\n"
     ]
    }
   ],
   "source": [
    "result = sum_mul('sum', 1,2,3,4,5)\n",
    "print(result)\n",
    "\n",
    "result = sum_mul('mul', 1,2,3,4,5)\n",
    "print(result)\n"
   ]
  },
  {
   "cell_type": "markdown",
   "metadata": {},
   "source": [
    "## 함수의 결과 값은 언제나 하나이다."
   ]
  },
  {
   "cell_type": "code",
   "execution_count": 121,
   "metadata": {
    "collapsed": true
   },
   "outputs": [],
   "source": [
    "def sum_and_mul(a,b):\n",
    "    return a+b, a*b"
   ]
  },
  {
   "cell_type": "code",
   "execution_count": 122,
   "metadata": {},
   "outputs": [
    {
     "name": "stdout",
     "output_type": "stream",
     "text": [
      "(8, 15) <class 'tuple'>\n"
     ]
    }
   ],
   "source": [
    "result = sum_and_mul(3,5)\n",
    "print (result, type(result))"
   ]
  },
  {
   "cell_type": "markdown",
   "metadata": {},
   "source": [
    "## 입력 인수에 초기값 설정하기\n"
   ]
  },
  {
   "cell_type": "code",
   "execution_count": 123,
   "metadata": {
    "collapsed": true
   },
   "outputs": [],
   "source": [
    "def say_myself(name, old, man=True): \n",
    "    print(\"나의 이름은 %s 입니다.\" % name) \n",
    "    print(\"나이는 %d살입니다.\" % old) \n",
    "    if man: \n",
    "        print(\"남자입니다.\")\n",
    "    else: \n",
    "        print(\"여자입니다.\")"
   ]
  },
  {
   "cell_type": "code",
   "execution_count": 125,
   "metadata": {},
   "outputs": [
    {
     "name": "stdout",
     "output_type": "stream",
     "text": [
      "나의 이름은 김진호 입니다.\n",
      "나이는 32살입니다.\n",
      "남자입니다.\n"
     ]
    }
   ],
   "source": [
    "say_myself(\"김진호\", 32)"
   ]
  },
  {
   "cell_type": "code",
   "execution_count": 126,
   "metadata": {},
   "outputs": [
    {
     "name": "stdout",
     "output_type": "stream",
     "text": [
      "나의 이름은 김진호 입니다.\n",
      "나이는 32살입니다.\n",
      "여자입니다.\n"
     ]
    }
   ],
   "source": [
    "say_myself(\"김진호\", 32, man =False)"
   ]
  },
  {
   "cell_type": "code",
   "execution_count": 127,
   "metadata": {},
   "outputs": [
    {
     "ename": "SyntaxError",
     "evalue": "non-default argument follows default argument (<ipython-input-127-b2b6b2347623>, line 1)",
     "output_type": "error",
     "traceback": [
      "\u001b[0;36m  File \u001b[0;32m\"<ipython-input-127-b2b6b2347623>\"\u001b[0;36m, line \u001b[0;32m1\u001b[0m\n\u001b[0;31m    def say_myself(name, man=True, old):\u001b[0m\n\u001b[0m                  ^\u001b[0m\n\u001b[0;31mSyntaxError\u001b[0m\u001b[0;31m:\u001b[0m non-default argument follows default argument\n"
     ]
    }
   ],
   "source": [
    "# 함수 입력 인수에 초기값을 설정할 때는 맨 뒤로!\n",
    "\n",
    "def say_myself(name, man=True, old): \n",
    "    print(\"나의 이름은 %s 입니다.\" % name) \n",
    "    print(\"나이는 %d살입니다.\" % old) \n",
    "    if man: \n",
    "        print(\"남자입니다.\") \n",
    "    else: \n",
    "        print(\"여자입니다.\")"
   ]
  },
  {
   "cell_type": "code",
   "execution_count": 131,
   "metadata": {},
   "outputs": [
    {
     "name": "stdout",
     "output_type": "stream",
     "text": [
      "4\n"
     ]
    }
   ],
   "source": [
    "## 함수 안에서 함수 밖의 변수를 변경하는 방법\n",
    "\n",
    "a = 1\n",
    "def vartest():\n",
    "    global a \n",
    "    a = a+1\n",
    "\n",
    "[vartest() for i in range(3)]\n",
    "print(a)"
   ]
  },
  {
   "cell_type": "markdown",
   "metadata": {},
   "source": [
    "# CLASS"
   ]
  },
  {
   "cell_type": "code",
   "execution_count": 133,
   "metadata": {},
   "outputs": [
    {
     "name": "stdout",
     "output_type": "stream",
     "text": [
      "3\n",
      "7\n",
      "3\n",
      "10\n"
     ]
    }
   ],
   "source": [
    "# 함수를 ... 두개씩이나.. 구현하려니 너무 힘들다!\n",
    "\n",
    "result1 = 0\n",
    "result2 = 0\n",
    "\n",
    "def adder1(num):\n",
    "    global result1\n",
    "    result1 += num\n",
    "    return result1\n",
    "\n",
    "def adder2(num):\n",
    "    global result2\n",
    "    result2 += num\n",
    "    return result2\n",
    "\n",
    "print(adder1(3))\n",
    "print(adder1(4))\n",
    "print(adder2(3))\n",
    "print(adder2(7))"
   ]
  },
  {
   "cell_type": "code",
   "execution_count": 134,
   "metadata": {},
   "outputs": [
    {
     "name": "stdout",
     "output_type": "stream",
     "text": [
      "3\n",
      "7\n",
      "3\n",
      "10\n"
     ]
    }
   ],
   "source": [
    "class Calculator:\n",
    "    def __init__(self):\n",
    "        self.result = 0\n",
    "\n",
    "    def adder(self, num):\n",
    "        self.result += num\n",
    "        return self.result\n",
    "\n",
    "cal1 = Calculator()\n",
    "cal2 = Calculator()\n",
    "\n",
    "print(cal1.adder(3))\n",
    "print(cal1.adder(4))\n",
    "print(cal2.adder(3))\n",
    "print(cal2.adder(7))"
   ]
  },
  {
   "cell_type": "markdown",
   "metadata": {},
   "source": [
    "## 사칙연산 클래스 만들기"
   ]
  },
  {
   "cell_type": "code",
   "execution_count": 136,
   "metadata": {
    "collapsed": true
   },
   "outputs": [],
   "source": [
    "class FourCal:\n",
    "\n",
    "    def __init__(self, first, second):\n",
    "        self.first = first\n",
    "        self.second = second\n",
    "    \n",
    "    def setdata(self, first, second):\n",
    "        self.first = first\n",
    "        self.second = second\n",
    "    \n",
    "    def Sum(self):\n",
    "        result = self.first + self.second\n",
    "        return result\n",
    "    \n",
    "    def Mul(self):\n",
    "        result = self.first * self.second\n",
    "        return result\n",
    "    \n",
    "    def Sub(self):\n",
    "        result = self.first - self.second\n",
    "        return result\n",
    "    \n",
    "    def Div(self):\n",
    "        result = self.first / self.second\n",
    "        return result"
   ]
  },
  {
   "cell_type": "code",
   "execution_count": 147,
   "metadata": {},
   "outputs": [
    {
     "name": "stdout",
     "output_type": "stream",
     "text": [
      "5\n",
      "6\n",
      "-1\n",
      "0.6666666666666666\n",
      "\n",
      "\n",
      "11\n",
      "24\n",
      "-5\n",
      "0.375\n",
      "\n",
      "\n",
      "3 8\n"
     ]
    }
   ],
   "source": [
    "Calculator = FourCal(2,3)\n",
    "\n",
    "print (Calculator.Sum())\n",
    "print (Calculator.Mul())\n",
    "print (Calculator.Sub())\n",
    "print (Calculator.Div())\n",
    "\n",
    "print (\"\\n\")\n",
    "Calculator.setdata(3,8)\n",
    "\n",
    "print (Calculator.Sum())\n",
    "print (Calculator.Mul())\n",
    "print (Calculator.Sub())\n",
    "print (Calculator.Div())\n",
    "\n",
    "print (\"\\n\")\n",
    "\n",
    "print(Calculator.first, Calculator.second)\n"
   ]
  },
  {
   "cell_type": "markdown",
   "metadata": {},
   "source": [
    "![](https://wikidocs.net/images/page/12392/setdata.png)\n",
    "\n",
    "- 파이선 메서드의 첫번째 파라미터 명은 관례적으로 self라는 이름을 사용한다.\n",
    "- 호출 시 호출한 객체 자신이 전달되기 때문에 self라는 이름을 사용한다."
   ]
  },
  {
   "cell_type": "markdown",
   "metadata": {},
   "source": [
    "## Class의 상속 / 오버라이딩\n",
    "\n",
    "- 보통 상속은 기존 클래스를 변경하지 않고 기능을 추가하거나, 기존 기능을 변경할 때 사용\n",
    "- 기존 클래스 (ex. 파이선 내 명령어, 라이브러리) 를 수정할 수 없을 때, 상속을 이용해서 변경하는 것이 가능"
   ]
  },
  {
   "cell_type": "code",
   "execution_count": 151,
   "metadata": {},
   "outputs": [
    {
     "data": {
      "text/plain": [
       "16"
      ]
     },
     "execution_count": 151,
     "metadata": {},
     "output_type": "execute_result"
    }
   ],
   "source": [
    "class MorFourCal(FourCal):\n",
    "    def pow(self):\n",
    "        result = self.first ** self.second\n",
    "        return result\n",
    "    \n",
    "a = MorFourCal(4,2)\n",
    "a.pow()"
   ]
  },
  {
   "cell_type": "code",
   "execution_count": 152,
   "metadata": {
    "collapsed": true
   },
   "outputs": [],
   "source": [
    "class SafeFourCal(FourCal):\n",
    "    def div(self): # 기존의 클래스를 동일한 이름으로 다시 작성할때, 오버라이딩\n",
    "        if self.second == 0:\n",
    "            return 0\n",
    "        else:\n",
    "            return self.first/self.second"
   ]
  },
  {
   "cell_type": "code",
   "execution_count": 153,
   "metadata": {},
   "outputs": [
    {
     "data": {
      "text/plain": [
       "0"
      ]
     },
     "execution_count": 153,
     "metadata": {},
     "output_type": "execute_result"
    }
   ],
   "source": [
    "a = SafeFourCal(4,0)\n",
    "a.div()"
   ]
  },
  {
   "cell_type": "code",
   "execution_count": null,
   "metadata": {
    "collapsed": true
   },
   "outputs": [],
   "source": []
  }
 ],
 "metadata": {
  "kernelspec": {
   "display_name": "Python 3",
   "language": "python",
   "name": "python3"
  },
  "language_info": {
   "codemirror_mode": {
    "name": "ipython",
    "version": 3
   },
   "file_extension": ".py",
   "mimetype": "text/x-python",
   "name": "python",
   "nbconvert_exporter": "python",
   "pygments_lexer": "ipython3",
   "version": "3.6.4"
  }
 },
 "nbformat": 4,
 "nbformat_minor": 2
}
